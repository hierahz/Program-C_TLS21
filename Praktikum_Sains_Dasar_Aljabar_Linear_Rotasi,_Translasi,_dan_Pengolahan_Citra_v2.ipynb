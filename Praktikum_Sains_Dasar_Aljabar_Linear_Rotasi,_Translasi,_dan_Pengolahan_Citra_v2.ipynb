{
  "nbformat": 4,
  "nbformat_minor": 0,
  "metadata": {
    "colab": {
      "provenance": [],
      "collapsed_sections": [],
      "toc_visible": true,
      "include_colab_link": true
    },
    "kernelspec": {
      "name": "python3",
      "display_name": "Python 3"
    },
    "language_info": {
      "name": "python"
    }
  },
  "cells": [
    {
      "cell_type": "markdown",
      "metadata": {
        "id": "view-in-github",
        "colab_type": "text"
      },
      "source": [
        "<a href=\"https://colab.research.google.com/github/hierahz/Program-C_TLS21/blob/main/Praktikum_Sains_Dasar_Aljabar_Linear_Rotasi%2C_Translasi%2C_dan_Pengolahan_Citra_v2.ipynb\" target=\"_parent\"><img src=\"https://colab.research.google.com/assets/colab-badge.svg\" alt=\"Open In Colab\"/></a>"
      ]
    },
    {
      "cell_type": "markdown",
      "metadata": {
        "id": "PNq79sdtDeT3"
      },
      "source": [
        "# Praktikum Sains Dasar\n",
        "\n",
        "## Unit 4\n",
        "## Pengantar Aljabar Linear\n"
      ]
    },
    {
      "cell_type": "markdown",
      "metadata": {
        "id": "z076SUDmDkyH"
      },
      "source": [
        "### Tujuan:\n",
        "1.   Memahami konsep vektor, matrik, dan operasinya\n",
        "2.   Mengaplikasikan konsep-konsep tersebut ke dalam proses transformasi linear\n",
        "3. Mengaplikasikan konsep-konsep tersebut ke dalam proses pengolahan citra sederhana\n",
        "\n",
        "\n",
        "### Ketentuan:\n",
        "1. Peserta praktikum hanya boleh menggunakan fungsi-fungsi yang telah disediakan dalam notebook ini.\n",
        "2. Fungsi yang di-import dari luar akan dianggap suatu kesalahan yang akan mengurangi nilai dari praktikum.\n",
        "3. Semua operasi matrix dihitung secara manual, kecuali visualisasi dan operasi image processing di Praktikum 2.\n",
        "4. Dilarang menggunakan fungsi-fungsi solver aljabar linear pada numpy!\n"
      ]
    },
    {
      "cell_type": "markdown",
      "metadata": {
        "id": "5DbfzcguR87Y"
      },
      "source": [
        "## Bagian 1: Operasi Dasar Vektor dan Matriks"
      ]
    },
    {
      "cell_type": "markdown",
      "metadata": {
        "id": "88mxqsF_LUCM"
      },
      "source": [
        "### 1. A. Visualisasi Vektor\n",
        "\n",
        "Sebelum meulai praktikum, kita akan menjelaskan terlebih dahulu function yang akan digunakan di Unit Praktikum ini untuk menvisualisasikan vektor. Sebuah vektor $\\mathbf{a}$ berdimensi-$n$ tersusun atas $n$ buah komponen skalar (secara matematis ditulis $\\mathbf{a} \\in R^n$). Sebagai contoh, vektor berdimensi $n=2$ dapat direpresentasikan sebagai sebuah titik di bidang 2 dimensi di mana masing-masing komponen merepresentasikan posisi titik tersebut di sumbu $x$ dan $y$. Function yang akan digunakan di bagian ini bertujuan untuk menvisualisasikan vektor 2 dimensi dalam bidang $x-y$ ($x-y$ plane).\n",
        "\n",
        "Silahkan jalankan kode program di bawah ini 1 kali saja!"
      ]
    },
    {
      "cell_type": "code",
      "metadata": {
        "colab": {
          "base_uri": "https://localhost:8080/"
        },
        "id": "GKJriBxw8HdX",
        "outputId": "37704b7c-1323-40cf-86a6-3000f187b3f7"
      },
      "source": [
        "! git clone https://ahmadataka@bitbucket.org/ahmadataka/linear_transform_labwork_ugm.git"
      ],
      "execution_count": null,
      "outputs": [
        {
          "output_type": "stream",
          "name": "stdout",
          "text": [
            "Cloning into 'linear_transform_labwork_ugm'...\n",
            "Unpacking objects: 100% (9/9), done.\n"
          ]
        }
      ]
    },
    {
      "cell_type": "code",
      "metadata": {
        "id": "bNYOoYEyAsbN"
      },
      "source": [
        "from linear_transform_labwork_ugm.linear_transform import plot_vectors, draw_polygon\n",
        "import numpy as np\n"
      ],
      "execution_count": null,
      "outputs": []
    },
    {
      "cell_type": "markdown",
      "metadata": {
        "id": "HGUIsRXwSzlv"
      },
      "source": [
        "Sekarang, kita akan mencoba membuat sebuah vektor 2 dimensi menggunakan library Numpy. Misal, kita memiliki vektor berikut\n",
        "\n",
        "${a} = \\begin{bmatrix}3 \\\\ 0\n",
        "\\end{bmatrix}$\n",
        "\n",
        "Gunakan perintah di bawah ini untuk membuat vektor ${a}$ dengan bantuan library Numpy dan menampilkan hasilnya."
      ]
    },
    {
      "cell_type": "code",
      "metadata": {
        "colab": {
          "base_uri": "https://localhost:8080/"
        },
        "id": "8zrQWrzNDJkh",
        "outputId": "98bdada3-4ef4-42a2-f5a5-d4ddf40bc49b"
      },
      "source": [
        "vector_a = np.array([[3], [0]])\n",
        "print(vector_a)"
      ],
      "execution_count": null,
      "outputs": [
        {
          "output_type": "stream",
          "name": "stdout",
          "text": [
            "[[3]\n",
            " [0]]\n"
          ]
        }
      ]
    },
    {
      "cell_type": "markdown",
      "metadata": {
        "id": "mjMLOe_sT5sP"
      },
      "source": [
        "Gunakan fungsi plot_vectors() di bawah ini untuk menvisualisasikan vektor ${a}$:"
      ]
    },
    {
      "cell_type": "code",
      "metadata": {
        "colab": {
          "base_uri": "https://localhost:8080/",
          "height": 248
        },
        "id": "vOSMc7G_H2Rq",
        "outputId": "cde41c2b-8251-4428-b6f3-ac3c216f3a41"
      },
      "source": [
        "plot_vectors(vector_a)"
      ],
      "execution_count": null,
      "outputs": [
        {
          "output_type": "display_data",
          "data": {
            "image/png": "[encoded data removed]",
            "text/plain": [
              "<Figure size 432x288 with 1 Axes>"
            ]
          },
          "metadata": {
            "needs_background": "light"
          }
        }
      ]
    },
    {
      "cell_type": "markdown",
      "metadata": {
        "id": "-EhA5weTt_ES"
      },
      "source": [
        "### 1. B. Linear Transformation\n",
        "\n",
        "Pada bagian ini kita akan mempelajari teori vektor dan matriks dari sudut pandang transformasi linear.\n",
        "\n",
        "Transformasi linear dapat direpresentasikan sebagai berikut\n",
        "\n",
        "\n",
        "$$ L(\\vec{x}) = M\\vec{x}$$\n",
        "di mana M merupakan suatu matriks yang akan mentransformasikan vector $\\vec{x}$ ke dalam range dari $M$. Pada praktikum kali ini, $M \\in R^{n\\times n}$ merupakan matrix persegi dengan basis yang independen, $Rank(M)=n$.\n",
        "\n",
        "Untuk memahami transformasi linear, kita akan memulai dengan operasi sederhana terlebih dahulu, yaitu proses rotasi."
      ]
    },
    {
      "cell_type": "markdown",
      "metadata": {
        "id": "gL1AjXIZLb5C"
      },
      "source": [
        "#### Rotation\n",
        "\n",
        "Proses rotasi sebuah vektor bisa direpresentasikan secara matematis sebagai perkalian antara vektor tersebut dengan sebuah matriks rotasi. Untuk vektor 2 dimensi, matriks rotasi direpresentasikan sebagai berikut:\n",
        "\n",
        "$$\n",
        "\\begin{equation}\n",
        "R = \n",
        "\\begin{pmatrix}\n",
        "\\cos(\\theta) & -\\sin(\\theta) \\\\\n",
        "\\sin(\\theta) & \\cos(\\theta) \n",
        "\\end{pmatrix}\n",
        "\\end{equation}\n",
        "$$\n",
        "di mana $\\theta$ adalah sudut rotasi terhadap sumbu-$z$.\n",
        "\n",
        "Untuk lebih mudah memahami proses ini, kita akan mencoba mengaplikasikan matriks rotasi melalui langkah-langkah di bawah ini.\n"
      ]
    },
    {
      "cell_type": "markdown",
      "metadata": {
        "id": "6Y-apdEkOjtN"
      },
      "source": [
        "1.   Buatlah matriks rotasi sebagaimana definisi di atas untuk nilai $\\theta = 0^{\\circ}$, $\\theta = 45^{\\circ}$, $\\theta = 90^{\\circ}$, $\\theta = 180^{\\circ}$, $\\theta = 360^{\\circ}$, $\\theta = -45^{\\circ}$, $\\theta = -90^{\\circ}$, $\\theta = -180^{\\circ}$, $\\theta = -360^{\\circ}$. Tulis jawabanmu di lembar kerja!\n",
        "2.   Gunakan operasi perkalian $b = R(\\theta) a$ untuk menghitung nilai vektor $b$ untuk masing-masing nilai $\\theta$ di atas dengan nilai vektor $a$ adalah $a = \\begin{bmatrix}3 \\\\ 0\n",
        "\\end{bmatrix}$. Tulis hasilnya di lembar kerja!\n",
        "3. Representasikan vektor $b$ yang kamu dapat di poin 2. untuk masing-masing nilai sudut rotasi $\\theta$ dengan menggunakan library Numpy seperti contoh di bagian 1.A.\n",
        "\n"
      ]
    },
    {
      "cell_type": "code",
      "metadata": {
        "id": "536qIVfGE10L"
      },
      "source": [
        "vector_b_1 = np.array([[2], [5]])"
      ],
      "execution_count": null,
      "outputs": []
    },
    {
      "cell_type": "markdown",
      "metadata": {
        "id": "AwK1GYFbEzZU"
      },
      "source": [
        "4. Visualisasikan vektor $b$ untuk masing-masing nilai sudut rotasi $\\theta$ dan vektor $a$ sekaligus dengan menggunakan perintah plot_vectors di bawah ini:\n"
      ]
    },
    {
      "cell_type": "code",
      "metadata": {
        "colab": {
          "base_uri": "https://localhost:8080/",
          "height": 248
        },
        "id": "gY4xjrIhH6aM",
        "outputId": "a020d2bc-7457-408b-f76a-96f7c273eebf"
      },
      "source": [
        "plot_vectors([vector_a,vector_b_1])\n",
        "### tambahkan juga perintah untuk vector_b_2, dst\n",
        "### plot_vectors([vector_a,vector_b_2])"
      ],
      "execution_count": null,
      "outputs": [
        {
          "output_type": "display_data",
          "data": {
            "image/png": "[encoded data removed]",
            "text/plain": [
              "<Figure size 432x288 with 1 Axes>"
            ]
          },
          "metadata": {
            "needs_background": "light"
          }
        }
      ]
    },
    {
      "cell_type": "markdown",
      "metadata": {
        "id": "JBAsHz80iat7"
      },
      "source": [
        "5. Jawab pertanyaan-pertanyaan berikut:\n",
        "\n",
        "\n",
        "*   Apa yang terjadi jika sebuah vektor dikalikan dengan matriks rotasi $R(\\theta)$?\n",
        "*   Apakah perbedaan yang terjadi jika nilai $\\theta>0$ dibandingkan dengan nilai $\\theta<0$?\n",
        "*   Mungkinkah dua vektor rotasi dengan nilai $\\theta$ yang berbeda menghasilkan vektor akhir yang sama? Jelaskan!\n",
        "\n",
        "\n",
        "\n"
      ]
    },
    {
      "cell_type": "markdown",
      "metadata": {
        "id": "T1OAkBpOjmn-"
      },
      "source": [
        "6. Lakukan langkah 1-5 di atas untuk nilai vektor $a$ berikut dan buat plot-nya di kode program di bawah! $a = \\begin{bmatrix} \\text{tanggal lahir} \\\\ \\text{bulan lahir} \\end{bmatrix}$. Gunakan $\\theta = 45^{\\circ}$!"
      ]
    },
    {
      "cell_type": "code",
      "metadata": {
        "colab": {
          "base_uri": "https://localhost:8080/",
          "height": 248
        },
        "id": "dckSvHIgFZ4j",
        "outputId": "df7b99a9-2129-416d-bda0-2650e41183a8"
      },
      "source": [
        "vector_a = np.array([[0], [0]])\n",
        "vector_b_1 = np.array([[0], [0]])\n",
        "plot_vectors([vector_a,vector_b_1])"
      ],
      "execution_count": null,
      "outputs": [
        {
          "output_type": "display_data",
          "data": {
            "image/png": "[encoded data removed]",
            "text/plain": [
              "<Figure size 432x288 with 1 Axes>"
            ]
          },
          "metadata": {}
        }
      ]
    },
    {
      "cell_type": "markdown",
      "metadata": {
        "id": "_b3-l_I_3Zt9"
      },
      "source": [
        "Di bagian selanjutnya, mahasiswa akan diminta melakukan transformasi rotasi pada bangun datar (polygon) dengan cara mentransformasikan vektor posisi dari corner polygon terhadap koordinat (0,0). "
      ]
    },
    {
      "cell_type": "markdown",
      "metadata": {
        "id": "EkzUhKMYPCV4"
      },
      "source": [
        "Definisikan posisi dari titik-titik sudut polygon. Pada contoh di bawah ini, posisi titik-titik sudut polygon direpresentasikan oleh vektor berikut:\n",
        "\n",
        "$a = \\begin{bmatrix}1 \\\\ 1 \\end{bmatrix}$, $b = \\begin{bmatrix}-1 \\\\ 1 \\end{bmatrix}$, $c = \\begin{bmatrix}-1 \\\\ -1 \\end{bmatrix}$, $d = \\begin{bmatrix}1 \\\\ -1 \\end{bmatrix}$."
      ]
    },
    {
      "cell_type": "code",
      "metadata": {
        "id": "WXjhbuYXQEuZ"
      },
      "source": [
        "vector_a = np.array([[1], [1]])\n",
        "vector_b = np.array([[-1], [1]])\n",
        "vector_c = np.array([[-1], [-1]])\n",
        "vector_d = np.array([[1], [-1]])"
      ],
      "execution_count": null,
      "outputs": []
    },
    {
      "cell_type": "markdown",
      "metadata": {
        "id": "39SAuvTqPzoI"
      },
      "source": [
        "Gunakan function draw_polygon() di bawah ini untuk menvisualisasikan polygon yang posisi titik-titik sudutnya telah didefinisikan di atas."
      ]
    },
    {
      "cell_type": "code",
      "metadata": {
        "id": "LSb1W95GPyKa",
        "colab": {
          "base_uri": "https://localhost:8080/",
          "height": 269
        },
        "outputId": "78dba288-c549-4454-b0ef-fcb89877729b"
      },
      "source": [
        "draw_polygon(vector_a, vector_b, vector_c, vector_d)"
      ],
      "execution_count": null,
      "outputs": [
        {
          "output_type": "display_data",
          "data": {
            "image/png": "[encoded data removed]",
            "text/plain": [
              "<Figure size 432x288 with 1 Axes>"
            ]
          },
          "metadata": {
            "needs_background": "light"
          }
        }
      ]
    },
    {
      "cell_type": "markdown",
      "metadata": {
        "id": "9FLKcDIlQ9HV"
      },
      "source": [
        "7. Gunakan matriks rotasi yang didapat di poin 1. dengan $\\theta = 45$ untuk memutar polygon di atas. Caranya, kalikan matriks rotasi $R(\\theta = 45^{\\circ})$ dengan posisi tiap titik sudut polygon untuk mendapatkan posisi 4 titik sudut yang baru. Tuliskan hasilnya di lembar kerjamu! Visualisasikan hasilnya dengan perintah draw_polygon di atas!"
      ]
    },
    {
      "cell_type": "code",
      "metadata": {
        "id": "U6aaQ9kAQxTC",
        "colab": {
          "base_uri": "https://localhost:8080/",
          "height": 269
        },
        "outputId": "13c4cace-e389-4528-8597-bd6127775fd8"
      },
      "source": [
        "new_a = np.array([[0], [0]])\n",
        "new_b = np.array([[0], [0]])\n",
        "new_c = np.array([[0], [0]])\n",
        "new_d = np.array([[0], [0]])\n",
        "draw_polygon(new_a, new_b, new_c, new_d)"
      ],
      "execution_count": null,
      "outputs": [
        {
          "output_type": "display_data",
          "data": {
            "image/png": "[encoded data removed]",
            "text/plain": [
              "<Figure size 432x288 with 1 Axes>"
            ]
          },
          "metadata": {
            "needs_background": "light"
          }
        }
      ]
    },
    {
      "cell_type": "markdown",
      "metadata": {
        "id": "yO28_yaORv2Y"
      },
      "source": [
        "8. Buatlah sebuah persegi panjang yang posisi titik-titik sudutnya dinyatakan oleh vektor di bawah ini. Lalu, gunakan matriks rotasi untuk memutar persegi panjang sebesar $\\theta = \\text{tanggal lahir} \\times \\text{bulan lahir}$. Tuliskan matriks rotasi yang kamu gunakan dan posisi titik-titik sudut persegi panjang yang baru di lembar kerjamu! Visualisasikan hasilnya dengan perintah draw_polygon dan simpan screenshot hasil plotnya!\n",
        "\n",
        "$a = \\begin{bmatrix}1.5 \\\\ 1 \\end{bmatrix}$, $b = \\begin{bmatrix}-1 \\\\ 1 \\end{bmatrix}$, $c = \\begin{bmatrix}-1 \\\\ -1 \\end{bmatrix}$, $d = \\begin{bmatrix}1.5 \\\\ -1 \\end{bmatrix}$."
      ]
    },
    {
      "cell_type": "code",
      "metadata": {
        "id": "ZFLzt22fWlGK",
        "colab": {
          "base_uri": "https://localhost:8080/",
          "height": 521
        },
        "outputId": "1d59e676-562c-4376-e618-7ce2c100f7b9"
      },
      "source": [
        "vector_a = np.array([[0], [0]])\n",
        "vector_b = np.array([[0], [0]])\n",
        "vector_c = np.array([[0], [0]])\n",
        "vector_d = np.array([[0], [0]])\n",
        "draw_polygon(vector_a, vector_b, vector_c, vector_d)\n",
        "\n",
        "new_a = np.array([[0], [0]])\n",
        "new_b = np.array([[0], [0]])\n",
        "new_c = np.array([[0], [0]])\n",
        "new_d = np.array([[0], [0]])\n",
        "draw_polygon(new_a, new_b, new_c, new_d)"
      ],
      "execution_count": null,
      "outputs": [
        {
          "output_type": "display_data",
          "data": {
            "image/png": "[encoded data removed]",
            "text/plain": [
              "<Figure size 432x288 with 1 Axes>"
            ]
          },
          "metadata": {
            "needs_background": "light"
          }
        },
        {
          "output_type": "display_data",
          "data": {
            "image/png": "[encoded data removed]",
            "text/plain": [
              "<Figure size 432x288 with 1 Axes>"
            ]
          },
          "metadata": {
            "needs_background": "light"
          }
        }
      ]
    },
    {
      "cell_type": "markdown",
      "metadata": {
        "id": "Dix5ObEBscT9"
      },
      "source": [
        "#### Scale"
      ]
    },
    {
      "cell_type": "markdown",
      "metadata": {
        "id": "hPIdk5pFU_Hu"
      },
      "source": [
        "Selain rotasi, salah satu operasi yang termasuk transformasi linear adalah scaling. Matriks scaling bisa digunakan untuk memperbesar atau memperkecil sebuah vektor. Matriks scaling bisa direpresentasikan sebagai berikut:\n",
        "\n",
        "$S_c = \\begin{bmatrix} s_x & 0 \\\\ 0 & s_y \\end{bmatrix}$,\n",
        "\n",
        "di mana $s_x$ dan $s_y$ adalah *scaling factor* di sumbu-$x$ dan sumbu-$y$. Berbeda dengan matriks rotasi $R$ di bagian sebelumnya, matriks scaling adalah matriks diagonal, yaitu matriks yang nilai komponen di luar diagonalnya adalah 0.\n",
        "\n",
        "Proses scaling bisa dibagi menjadi 2:\n",
        "\n",
        "\n",
        "1.   *Uniform scaling*, yaitu ketika *scaling factor* di setiap sumbu bernilai sama, atau $s_x = s_y$.\n",
        "2.   *Non-uniform scaling*, yaitu ketika minimal 1 *scaling factor* di sebuah sumbu berbeda nilainya, atau $s_x \\neq s_y$.\n",
        "\n",
        "Pada bagian ini, kita akan memulai dengan mencoba proses *uniform scaling*, artinya $s_x = s_y = s$.\n"
      ]
    },
    {
      "cell_type": "markdown",
      "metadata": {
        "id": "rHcNiN8YXh4G"
      },
      "source": [
        "9. Tuliskan di lembar kerjamu matriks scaling $S_c$ dengan *scaling factor* masing-masing seperti di bawah ini:\n",
        "\n",
        "$s=2$, $s=0.5$, $s=-5$, $s=0$."
      ]
    },
    {
      "cell_type": "markdown",
      "metadata": {
        "id": "kbPzbgJQYDAQ"
      },
      "source": [
        "10. Gunakan matriks scaling di bagian 9 untuk menskalakan vektor berikut: $a=\\begin{bmatrix}2 \\\\ 3\\end{bmatrix}$ menjadi vektor $b$. Tulis hasilnya di lembar kerjamu dan visualisasikan hasilnya beserta dengan vektor aslinya dengan bantuan perintah plot_vectors([vector_a,vector_b])."
      ]
    },
    {
      "cell_type": "code",
      "metadata": {
        "colab": {
          "base_uri": "https://localhost:8080/",
          "height": 248
        },
        "id": "yyGTCvi2GjPY",
        "outputId": "4dbdf371-8d25-4bab-ec41-5708e9865f7b"
      },
      "source": [
        "## Tulis nilai vector_a, vector_b_1, vector_b_2, dst terlebih dahulu\n",
        "\n",
        "plot_vectors([vector_a,vector_b_1])\n",
        "### tambahkan juga perintah untuk vector_b_2, dst\n",
        "### plot_vectors([vector_a,vector_b_2])"
      ],
      "execution_count": null,
      "outputs": [
        {
          "output_type": "display_data",
          "data": {
            "image/png": "[encoded data removed]",
            "text/plain": [
              "<Figure size 432x288 with 1 Axes>"
            ]
          },
          "metadata": {}
        }
      ]
    },
    {
      "cell_type": "markdown",
      "metadata": {
        "id": "uLYOG-64ZE-T"
      },
      "source": [
        "11. Apa yang terjadi jika *scaling factor* $s>0$? Apa yang terjadi jika *scaling factor* $s<0$? Apa yang terjadi jika $s=0$?"
      ]
    },
    {
      "cell_type": "markdown",
      "metadata": {
        "id": "aW_ytFNoZdXw"
      },
      "source": [
        "12. Sekarang, kita akan mencoba proses *non-uniform scaling*. Ulangi langkah 9-10 untuk nilai *scaling factor* di bawah ini:\n",
        "\n",
        "$s_x = 0.5, s_y=2.0$\n",
        "\n",
        "$s_x = -3.0, s_y=0.2$\n",
        "\n",
        "$s_x = 0.0, s_y=1.0$\n",
        "\n",
        "$s_x = 1.0, s_y=0.0$"
      ]
    },
    {
      "cell_type": "code",
      "metadata": {
        "id": "u8s8S5ZCG-tJ"
      },
      "source": [
        "## Tulis nilai vector_a, vector_b_1, vector_b_2, dst terlebih dahulu\n",
        "\n",
        "plot_vectors([vector_a,vector_b_1])\n",
        "### tambahkan juga perintah untuk vector_b_2, dst\n",
        "### plot_vectors([vector_a,vector_b_2])"
      ],
      "execution_count": null,
      "outputs": []
    },
    {
      "cell_type": "markdown",
      "metadata": {
        "id": "9VroRgevaFwS"
      },
      "source": [
        "13. Apa yang terjadi jika *scaling factor* di sumbu-$x$ negatif? Apa yang terjadi jika *scaling factor* di sumbu-$y$ negatif? Apa yang terjadi jika *scaling factor* di sumbu-$x$ bernilai 0? Apa yang terjadi jika *scaling factor* di sumbu-$y$ bernilai 0?"
      ]
    },
    {
      "cell_type": "markdown",
      "metadata": {
        "id": "VOmw6pO2cH1C"
      },
      "source": [
        "14. Scaling matriks juga bisa digunakan untuk memperbesar atau memperkecil polygon. Dengan posisi awal titik sudut polygon seperti di poin 8., hitung posisi titik sudut polygon yang baru jika nilai *scaling factor*-nya sebagai berikut:\n",
        "\n",
        "$s_x = \\text{tanggal lahir}/10$\n",
        "\n",
        "$s_y = \\text{bulan lahir}/10$\n",
        "\n",
        "Visualisasikan hasil polygon yang baru dengan perintah draw_polygon()!"
      ]
    },
    {
      "cell_type": "code",
      "metadata": {
        "colab": {
          "base_uri": "https://localhost:8080/",
          "height": 521
        },
        "id": "N_cN_VTKBaBs",
        "outputId": "309b9713-d682-4f5f-8936-e7230d309d89"
      },
      "source": [
        "vector_a = np.array([[0], [0]])\n",
        "vector_b = np.array([[0], [0]])\n",
        "vector_c = np.array([[0], [0]])\n",
        "vector_d = np.array([[0], [0]])\n",
        "draw_polygon(vector_a, vector_b, vector_c, vector_d)\n",
        "\n",
        "new_a = np.array([[0], [0]])\n",
        "new_b = np.array([[0], [0]])\n",
        "new_c = np.array([[0], [0]])\n",
        "new_d = np.array([[0], [0]])\n",
        "draw_polygon(new_a, new_b, new_c, new_d)"
      ],
      "execution_count": null,
      "outputs": [
        {
          "output_type": "display_data",
          "data": {
            "image/png": "[encoded data removed]",
            "text/plain": [
              "<Figure size 432x288 with 1 Axes>"
            ]
          },
          "metadata": {
            "needs_background": "light"
          }
        },
        {
          "output_type": "display_data",
          "data": {
            "image/png": "[encoded data removed]",
            "text/plain": [
              "<Figure size 432x288 with 1 Axes>"
            ]
          },
          "metadata": {
            "needs_background": "light"
          }
        }
      ]
    },
    {
      "cell_type": "markdown",
      "metadata": {
        "id": "KSTQNq9js_xG"
      },
      "source": [
        "#### Shear"
      ]
    },
    {
      "cell_type": "markdown",
      "metadata": {
        "id": "KUIT-xZouGEy"
      },
      "source": [
        "Selanjutnya, kita akan mencoba proses shearing. Shearing terbagi menjadi *horizontal shearing* dan *vertical shearing*. Matriks untuk horizontal shearing bisa direpresentasikan sebagai berikut:\n",
        "\n",
        "$S_h = \\begin{bmatrix}1 & \\lambda \\\\ 0 & 1\\end{bmatrix}$,\n",
        "\n",
        "di mana $\\lambda$ adalah *shearing factor*."
      ]
    },
    {
      "cell_type": "markdown",
      "metadata": {
        "id": "nsXqg3q-VpAI"
      },
      "source": [
        "15. Hitung matriks horizontal shearing $S_h$ untuk nilai shearing factor di bawah ini.\n",
        "\n",
        "$\\lambda = 1$, $\\lambda = 0.5$, $\\lambda = 2$, $\\lambda = -2$."
      ]
    },
    {
      "cell_type": "markdown",
      "metadata": {
        "id": "xqXyJEA2T2Dt"
      },
      "source": [
        "16. Gunakan polygon yang didefinisikan di poin 8. Hitung posisi titik-titik sudut polygon yang baru dengan menggunakan matriks shearing di poin 15. Gunakan perintah draw_polygon() untuk menvisualisasikan polygon yang baru."
      ]
    },
    {
      "cell_type": "code",
      "metadata": {
        "colab": {
          "base_uri": "https://localhost:8080/",
          "height": 521
        },
        "id": "4mPEh7yaHKAR",
        "outputId": "01ce13f6-6076-4816-a520-43258e75dd30"
      },
      "source": [
        "vector_a = np.array([[0], [0]])\n",
        "vector_b = np.array([[0], [0]])\n",
        "vector_c = np.array([[0], [0]])\n",
        "vector_d = np.array([[0], [0]])\n",
        "draw_polygon(vector_a, vector_b, vector_c, vector_d)\n",
        "\n",
        "new_a = np.array([[0], [0]])\n",
        "new_b = np.array([[0], [0]])\n",
        "new_c = np.array([[0], [0]])\n",
        "new_d = np.array([[0], [0]])\n",
        "draw_polygon(new_a, new_b, new_c, new_d)"
      ],
      "execution_count": null,
      "outputs": [
        {
          "output_type": "display_data",
          "data": {
            "image/png": "[encoded data removed]",
            "text/plain": [
              "<Figure size 432x288 with 1 Axes>"
            ]
          },
          "metadata": {
            "needs_background": "light"
          }
        },
        {
          "output_type": "display_data",
          "data": {
            "image/png": "[encoded data removed]",
            "text/plain": [
              "<Figure size 432x288 with 1 Axes>"
            ]
          },
          "metadata": {
            "needs_background": "light"
          }
        }
      ]
    },
    {
      "cell_type": "markdown",
      "metadata": {
        "id": "4AsY_zAgUp4y"
      },
      "source": [
        "17. Jelaskan apa yang terjadi pada polygon yang titik-titik sudutnya mengalami operasi shearing horizontal! Apa perbedaannya jika shearing factor $\\lambda>0$ dan shearing factor $\\lambda<0$?"
      ]
    },
    {
      "cell_type": "markdown",
      "metadata": {
        "id": "7oFU6aH5VM6K"
      },
      "source": [
        "Selanjutnya, kita akan mencoba proses *vertical shearing*. Secara matematis, matriks vertical shearing diekspresikan sebagai berikut\n",
        "\n",
        "$S_h = \\begin{bmatrix}\n",
        "1 & 0\\\\ \\lambda & 1\n",
        "\\end{bmatrix}$."
      ]
    },
    {
      "cell_type": "markdown",
      "metadata": {
        "id": "Rl4G1vRcWRsZ"
      },
      "source": [
        "18. Hitung matriks vertical shearing $S_h$ untuk 4 buah nilai shearing factor $\\lambda$ seperti di poin 15!\n"
      ]
    },
    {
      "cell_type": "markdown",
      "metadata": {
        "id": "dq8pfTtjXFNC"
      },
      "source": [
        "19. Gunakan polygon yang didefinisikan di poin 8. Hitung posisi titik-titik sudut polygon yang baru dengan menggunakan matriks shearing di poin 18. Gunakan perintah draw_polygon() untuk menvisualisasikan polygon yang baru."
      ]
    },
    {
      "cell_type": "code",
      "metadata": {
        "colab": {
          "base_uri": "https://localhost:8080/",
          "height": 521
        },
        "id": "mO4whZrSHQdt",
        "outputId": "ab7c8b40-3de5-49a7-9163-fe722eef3bc1"
      },
      "source": [
        "vector_a = np.array([[0], [0]])\n",
        "vector_b = np.array([[0], [0]])\n",
        "vector_c = np.array([[0], [0]])\n",
        "vector_d = np.array([[0], [0]])\n",
        "draw_polygon(vector_a, vector_b, vector_c, vector_d)\n",
        "\n",
        "new_a = np.array([[0], [0]])\n",
        "new_b = np.array([[0], [0]])\n",
        "new_c = np.array([[0], [0]])\n",
        "new_d = np.array([[0], [0]])\n",
        "draw_polygon(new_a, new_b, new_c, new_d)"
      ],
      "execution_count": null,
      "outputs": [
        {
          "output_type": "display_data",
          "data": {
            "image/png": "[encoded data removed]",
            "text/plain": [
              "<Figure size 432x288 with 1 Axes>"
            ]
          },
          "metadata": {
            "needs_background": "light"
          }
        },
        {
          "output_type": "display_data",
          "data": {
            "image/png": "[encoded data removed]",
            "text/plain": [
              "<Figure size 432x288 with 1 Axes>"
            ]
          },
          "metadata": {
            "needs_background": "light"
          }
        }
      ]
    },
    {
      "cell_type": "markdown",
      "metadata": {
        "id": "olanf6OMXRH_"
      },
      "source": [
        "20. Jelaskan apa yang terjadi pada polygon yang titik-titik sudutnya mengalami operasi shearing vertikal! Apa perbedaannya jika shearing factor $\\lambda>0$ dan shearing factor $\\lambda<0$? Apa perbedaan operasi shearing horizontal dengan shearing vertikal?"
      ]
    },
    {
      "cell_type": "markdown",
      "metadata": {
        "id": "kjoUzgM5tMVT"
      },
      "source": [
        "### C. Translation\n",
        "\n",
        "Proses translasi sebenarnya agak berbeda dengan proses-proses sebelumnya. Proses translasi bukan termasuk transformasi linear. Tetapi, kita bisa membuat operasi translasi menjadi mirip dengan transformasi linear sebagaimana akan dijelaskan di bagian E nanti."
      ]
    },
    {
      "cell_type": "markdown",
      "metadata": {
        "id": "3hGXBN7gYtK3"
      },
      "source": [
        "Secara umum, proses translasi untuk sebuah vektor 2-dimensi $a \\in R^2$ direpresentasikan sebagai berikut:\n",
        "\n",
        "$b = a + t$,\n",
        "\n",
        "di mana $t \\in R^2$ adalah vektor translasi. Dalam 2 dimensi, vektor translasi dinyatakan sebagai berikut:\n",
        "\n",
        "$t=\\begin{bmatrix}t_x \\\\ t_y\\end{bmatrix}$."
      ]
    },
    {
      "cell_type": "markdown",
      "metadata": {
        "id": "XpOwgDMuZTWD"
      },
      "source": [
        "21. Dengan posisi awal polygon seperti di poin 8, hitung posisi titik-titik sudut polygon baru jika ditranslasikan dengan vektor translasi berikut:\n",
        "\n",
        "$t=\\begin{bmatrix}\n",
        "1 \\\\ 1\n",
        "\\end{bmatrix}$,\n",
        "$t=\\begin{bmatrix}\n",
        "0 \\\\ 1\n",
        "\\end{bmatrix}$,\n",
        "$t=\\begin{bmatrix}\n",
        "-1 \\\\ 0\n",
        "\\end{bmatrix}$. \n",
        "\n",
        "Visualisasikan hasilnya dengan perintah draw_polygon!"
      ]
    },
    {
      "cell_type": "code",
      "metadata": {
        "colab": {
          "base_uri": "https://localhost:8080/",
          "height": 521
        },
        "id": "SzpxyP94L3Yu",
        "outputId": "88c93e6c-ed8c-4f4d-81a3-b521ea0f0e83"
      },
      "source": [
        "vector_a = np.array([[0], [0]])\n",
        "vector_b = np.array([[0], [0]])\n",
        "vector_c = np.array([[0], [0]])\n",
        "vector_d = np.array([[0], [0]])\n",
        "draw_polygon(vector_a, vector_b, vector_c, vector_d)\n",
        "\n",
        "new_a = np.array([[0], [0]])\n",
        "new_b = np.array([[0], [0]])\n",
        "new_c = np.array([[0], [0]])\n",
        "new_d = np.array([[0], [0]])\n",
        "draw_polygon(new_a, new_b, new_c, new_d)"
      ],
      "execution_count": null,
      "outputs": [
        {
          "output_type": "display_data",
          "data": {
            "image/png": "[encoded data removed]",
            "text/plain": [
              "<Figure size 432x288 with 1 Axes>"
            ]
          },
          "metadata": {
            "needs_background": "light"
          }
        },
        {
          "output_type": "display_data",
          "data": {
            "image/png": "[encoded data removed]",
            "text/plain": [
              "<Figure size 432x288 with 1 Axes>"
            ]
          },
          "metadata": {
            "needs_background": "light"
          }
        }
      ]
    },
    {
      "cell_type": "markdown",
      "metadata": {
        "id": "9opIRiVPMwqm"
      },
      "source": [
        "### D. Inverse Matriks"
      ]
    },
    {
      "cell_type": "markdown",
      "metadata": {
        "id": "EeVVGR6sStuR"
      },
      "source": [
        "Selanjutnya, kita akan mencoba menghitung proses inverse dari operasi transformasi linear di bagian B. Inverse dari sebuah matriks $A$, disimbolkan $A^{-1}$ adalah matriks yang memenuhi persamaan berikut:\n",
        "\n",
        "$A A^{-1} = I$,\n",
        "\n",
        "di mana $I$ adalah matriks identitas. Untuk matriks berukuran $2 \\times 2$, matriks identitasnya $I = \\begin{bmatrix}1 & 0\\\\0 & 1 \\end{bmatrix}$.\n",
        "\n",
        "Untuk matriks $A = \\begin{bmatrix}a & b\\\\c & d \\end{bmatrix}$, inverse matriksnya bisa dihitung dengan mudah:\n",
        "\n",
        "$A^{-1} = \\frac{1}{D}\\begin{bmatrix}d & -b\\\\-c & a \\end{bmatrix}$,\n",
        "\n",
        "di mana $D = ad - bc$ adalah determinan.\n",
        "\n",
        "Selain inverse, operasi lain yang penting adalah transpose dari sebuah matriks, disimbolkan $A^T$, yaitu mengubah komponen kolom menjadi baris:\n",
        "\n",
        "$A^T = \\begin{bmatrix}a & c\\\\b & d \\end{bmatrix}$."
      ]
    },
    {
      "cell_type": "markdown",
      "metadata": {
        "id": "mIkpKnTjeMK4"
      },
      "source": [
        "22. Hitung inverse dari matriks rotasi $R(\\theta) = \n",
        "\\begin{bmatrix}\n",
        "\\cos(\\theta) & -\\sin(\\theta) \\\\\n",
        "\\sin(\\theta) & \\cos(\\theta) \n",
        "\\end{bmatrix}$."
      ]
    },
    {
      "cell_type": "markdown",
      "metadata": {
        "id": "TJF_HEGAeXYi"
      },
      "source": [
        "23. Hitung transpose dari matriks rotasi $R(\\theta)$! Bandingkan hasilnya dengan jawaban poin 22. Jelaskan apa uniknya matriks rotasi ini! Carilah informasi di buku/internet untuk menemukan nama matriks yang memiliki sifat seperti ini!"
      ]
    },
    {
      "cell_type": "markdown",
      "metadata": {
        "id": "3dvX9NYRemiM"
      },
      "source": [
        "24. Pilih 3 buah vektor $b$ yang telah kamu hitung di poin 2 berserta sudut rotasinya $\\theta$, lalu kalikan dengan inverse rotasi $R^{-1}$ di poin 22 untuk mendapatkan vektor baru $c$. Visualisasikan hasilnya dengan perintah plot_vectors! Apa yang terjadi? Bandingkan hasilnya untuk ketiga buah vektor $b$ yang berbeda!"
      ]
    },
    {
      "cell_type": "code",
      "metadata": {
        "colab": {
          "base_uri": "https://localhost:8080/",
          "height": 248
        },
        "id": "J1kamx4OMz6Q",
        "outputId": "a6dc69b5-4d95-431f-fdfe-4d15a16987b1"
      },
      "source": [
        "## Tulis nilai vector_b_1, vector_b_2, vector_c1, vector_c2, dst terlebih dahulu\n",
        "vector_b_1 = np.array([[0], [0]])\n",
        "vector_c_1 = np.array([[0], [0]])\n",
        "plot_vectors([vector_b_1,vector_c_1])\n",
        "### tambahkan juga perintah plot untuk vector_b_2, dst\n",
        "### plot_vectors([vector_b_2,vector_c_2])\n"
      ],
      "execution_count": null,
      "outputs": [
        {
          "output_type": "display_data",
          "data": {
            "image/png": "[encoded data removed]",
            "text/plain": [
              "<Figure size 432x288 with 1 Axes>"
            ]
          },
          "metadata": {}
        }
      ]
    },
    {
      "cell_type": "markdown",
      "metadata": {
        "id": "k7vVHnk3E4Cg"
      },
      "source": [
        "25. Hitung juga inverse dari matriks scaling $S_c(s)$ serta matriks horizontal shearing dan matriks vertical shearing $S_h(\\lambda)$."
      ]
    },
    {
      "cell_type": "markdown",
      "metadata": {
        "id": "-Eh1vn77hlgw"
      },
      "source": [
        "26. Untuk polygon dengan posisi titik-titik sudut yang sudah diperbesar di poin 14, gunakan inverse dari matriks scaling untuk mendapatkan posisi titik-titik sudut yang baru dengan scaling factor sama dengan poin 14! Visualisasikan hasilnya dengan perintah draw_polygon()! Apa yang terjadi?"
      ]
    },
    {
      "cell_type": "code",
      "metadata": {
        "id": "W3p7Mp1AH93h"
      },
      "source": [
        "vector_a = np.array([[0], [0]])\n",
        "vector_b = np.array([[0], [0]])\n",
        "vector_c = np.array([[0], [0]])\n",
        "vector_d = np.array([[0], [0]])\n",
        "draw_polygon(vector_a, vector_b, vector_c, vector_d)\n",
        "\n",
        "new_a = np.array([[0], [0]])\n",
        "new_b = np.array([[0], [0]])\n",
        "new_c = np.array([[0], [0]])\n",
        "new_d = np.array([[0], [0]])\n",
        "draw_polygon(new_a, new_b, new_c, new_d)"
      ],
      "execution_count": null,
      "outputs": []
    },
    {
      "cell_type": "markdown",
      "metadata": {
        "id": "Uls7QiRArH7w"
      },
      "source": [
        "27. Untuk polygon dengan posisi titik-titik sudut yang sudah mengalami horizontal shearing atau vertical shearing di poin 16 dan 19, gunakan inverse dari matriks horizontal shearing dan vertical shearing di poin 25 untuk mendapatkan posisi titik-titik sudut yang baru dengan salah satu shearing factor di poin 16 dan 19! Visualisasikan hasilnya dengan perintah draw_polygon()! Apa yang terjadi?"
      ]
    },
    {
      "cell_type": "code",
      "metadata": {
        "id": "hnTtIJifIBNp"
      },
      "source": [
        "vector_a = np.array([[0], [0]])\n",
        "vector_b = np.array([[0], [0]])\n",
        "vector_c = np.array([[0], [0]])\n",
        "vector_d = np.array([[0], [0]])\n",
        "draw_polygon(vector_a, vector_b, vector_c, vector_d)\n",
        "\n",
        "new_a = np.array([[0], [0]])\n",
        "new_b = np.array([[0], [0]])\n",
        "new_c = np.array([[0], [0]])\n",
        "new_d = np.array([[0], [0]])\n",
        "draw_polygon(new_a, new_b, new_c, new_d)"
      ],
      "execution_count": null,
      "outputs": []
    },
    {
      "cell_type": "markdown",
      "metadata": {
        "id": "P9JMNarYtbgs"
      },
      "source": [
        "###  E. Homogeneous coordinates\n",
        "\n",
        "Proses rotasi, scaling, dan shearing yang sudah kita coba termasuk ke dalam proses transformasi linear. Sebagaimana disinggung di poin C, proses translasi bukan termasuk transformasi linear. Ini terlihat jelas dari perbedaan operasi yang terjadi pada proses translasi, yaitu penjumlaha vektor, tidak seperti operasi transformasi linear yang menggunakan perkalian matriks dan vektor. Tetapi, kita bisa memodifikasi proses translasi sedemikian rupa sehingga operasinya mirip dengan transformasi linear (dikenal sebagai *affine transformation*). Untuk itu, kita perlu menggunakan sistem koordinat yang disebut sebagai *homogeneous coordinate*."
      ]
    },
    {
      "cell_type": "markdown",
      "metadata": {
        "id": "-r_PwyiitMjj"
      },
      "source": [
        "Sebelumnya, kita bisa merepresentasikan posisi dari sebuah titik 2 dimensi dengan vektor 2 dimensi berisi posisi titik tersebut di sumbu-$x$ dan sumbu-$y$:\n",
        "\n",
        "$a = \\begin{bmatrix}\n",
        "a_x \\\\ a_y\n",
        "\\end{bmatrix}$.\n",
        "\n",
        "Untuk mentransformasi vektor $a$ ke dalam homogeneous coordinate, kita akan menambahkan 1 dimensi vektor $a$ dengan komponen bernilai 1 seperti berikut\n",
        "\n",
        "$a_h = \\begin{bmatrix}\n",
        "a_x \\\\ a_y \\\\ 1\n",
        "\\end{bmatrix}$."
      ]
    },
    {
      "cell_type": "markdown",
      "metadata": {
        "id": "lMM2NPyMd8gw"
      },
      "source": [
        "#### Translasi\n",
        "\n",
        "Untuk melakukan proses translasi vektor $a$ oleh vektor $t$ seperti di bagian C, kita terlebih dahulu mengubah vektor $a$ dan $t$ menjadi vektor $a_h$ dan $t_h$ di homogeneous coordinate. Selajutnya, kita lakukan operasi seperti berikut:\n",
        "\n",
        "$b_h = T a_h$,\n",
        "\n",
        "di mana matriks $T \\in R^{3 \\times 3}$ dinyatakan sebagai berikut:\n",
        "\n",
        "$T = \\begin{bmatrix}\n",
        "1 & 0 & t_x\\\\\n",
        "0 & 1 & t_y\\\\\n",
        "0 & 0 & 1\n",
        "\\end{bmatrix}$.\n",
        "\n",
        "Hasilnya, matriks $b_h$ di homogeneous coordinate ($b_h = \\begin{bmatrix}b_x \\\\ b_y \\\\ 1 \\end{bmatrix}$), bisa ditransformasi balik ke koordinat normal dengan mengabaikan baris terakhir vektor menjadi $b = \\begin{bmatrix}b_x \\\\ b_y\\end{bmatrix}$."
      ]
    },
    {
      "cell_type": "markdown",
      "metadata": {
        "id": "z7fcf8TzyCPg"
      },
      "source": [
        "28. Hitung matriks $T$ untuk vektor translasi $t = \\begin{bmatrix} -1 \\\\ 1\n",
        "\\end{bmatrix}$! "
      ]
    },
    {
      "cell_type": "markdown",
      "metadata": {
        "id": "SSJCRAzUyAfh"
      },
      "source": [
        "29. Dengan posisi awal polygon seperti di poin 8, hitung posisi baru titik-titik sudut polygon menggunakan metode transformasi dengan bantuan *homogeneous coordinate*. Visualisasikan hasilnya dengan perintah draw_polygon()!"
      ]
    },
    {
      "cell_type": "code",
      "metadata": {
        "colab": {
          "base_uri": "https://localhost:8080/",
          "height": 521
        },
        "id": "2UEUr9ccIHnD",
        "outputId": "a3fb91f0-2399-4b7d-bb0b-f622a576e992"
      },
      "source": [
        "vector_a = np.array([[0], [0]])\n",
        "vector_b = np.array([[0], [0]])\n",
        "vector_c = np.array([[0], [0]])\n",
        "vector_d = np.array([[0], [0]])\n",
        "draw_polygon(vector_a, vector_b, vector_c, vector_d)\n",
        "\n",
        "new_a = np.array([[0], [0]])\n",
        "new_b = np.array([[0], [0]])\n",
        "new_c = np.array([[0], [0]])\n",
        "new_d = np.array([[0], [0]])\n",
        "draw_polygon(new_a, new_b, new_c, new_d)"
      ],
      "execution_count": null,
      "outputs": [
        {
          "output_type": "display_data",
          "data": {
            "image/png": "[encoded data removed]",
            "text/plain": [
              "<Figure size 432x288 with 1 Axes>"
            ]
          },
          "metadata": {
            "needs_background": "light"
          }
        },
        {
          "output_type": "display_data",
          "data": {
            "image/png": "[encoded data removed]",
            "text/plain": [
              "<Figure size 432x288 with 1 Axes>"
            ]
          },
          "metadata": {
            "needs_background": "light"
          }
        }
      ]
    },
    {
      "cell_type": "markdown",
      "metadata": {
        "id": "Ib9WDXp2vHg_"
      },
      "source": [
        "#### Kombinasi Rotasi dan Translasi"
      ]
    },
    {
      "cell_type": "markdown",
      "metadata": {
        "id": "xFNsjTYa0-Y4"
      },
      "source": [
        "Sekarang, kita juga bisa menggunakan homogeneous coordinate untuk melakukan proses rotasi dan translasi sekaligus. Selain vektor translasi $t$, kita akan menggunakan matriks rotas $R(\\theta)$ yang telah kita gunakan sebelumya di bagian B. Matriks T di bagian sebelumnya bisa dimodifikasi menjadi:\n",
        "\n",
        "$T = \\begin{bmatrix}\n",
        "\\cos \\theta & -\\sin \\theta & t_x\\\\\n",
        "\\sin \\theta & \\cos \\theta & t_y\\\\\n",
        "0 & 0 & 1\n",
        "\\end{bmatrix}$."
      ]
    },
    {
      "cell_type": "markdown",
      "metadata": {
        "id": "CxgVCZvN2ZTO"
      },
      "source": [
        "30. Selain vektor translasi seperti di poin 28, tuliskan matriks T jika kita juga melakukan proses rotasi dengan sudut rotasi $\\theta = 30^{\\circ}$!"
      ]
    },
    {
      "cell_type": "markdown",
      "metadata": {
        "id": "I4fDDGSN3JjX"
      },
      "source": [
        "31. Dengan posisi awal polygon seperti di poin 8, hitung posisi baru titik-titik sudut polygon menggunakan metode transformasi dengan bantuan *homogeneous coordinate*. Visualisasikan hasilnya dengan perintah draw_polygon()!"
      ]
    },
    {
      "cell_type": "code",
      "metadata": {
        "colab": {
          "base_uri": "https://localhost:8080/",
          "height": 521
        },
        "id": "bPGFMgsjGDll",
        "outputId": "425539d8-b21f-4ec6-ade9-8e9c4d51d808"
      },
      "source": [
        "vector_a = np.array([[0], [0]])\n",
        "vector_b = np.array([[0], [0]])\n",
        "vector_c = np.array([[0], [0]])\n",
        "vector_d = np.array([[0], [0]])\n",
        "draw_polygon(vector_a, vector_b, vector_c, vector_d)\n",
        "\n",
        "new_a = np.array([[0], [0]])\n",
        "new_b = np.array([[0], [0]])\n",
        "new_c = np.array([[0], [0]])\n",
        "new_d = np.array([[0], [0]])\n",
        "draw_polygon(new_a, new_b, new_c, new_d)"
      ],
      "execution_count": null,
      "outputs": [
        {
          "output_type": "display_data",
          "data": {
            "image/png": "[encoded data removed]",
            "text/plain": [
              "<Figure size 432x288 with 1 Axes>"
            ]
          },
          "metadata": {
            "needs_background": "light"
          }
        },
        {
          "output_type": "display_data",
          "data": {
            "image/png": "[encoded data removed]",
            "text/plain": [
              "<Figure size 432x288 with 1 Axes>"
            ]
          },
          "metadata": {
            "needs_background": "light"
          }
        }
      ]
    },
    {
      "cell_type": "markdown",
      "metadata": {
        "id": "2zpV-FazMy5y"
      },
      "source": [
        "32. Selanjutnya, kita akan melakukan inverse pada matriks $T \\in R^{3 \\times 3}$ di atas. Untuk matriks $T = \\begin{bmatrix}\n",
        "\\cos \\theta & -\\sin \\theta & t_x\\\\\n",
        "\\sin \\theta & \\cos \\theta & t_y\\\\\n",
        "0 & 0 & 1\n",
        "\\end{bmatrix}$, tuliskan hasil inverse-nya, $T^{-1}$, pada lembar kerja! Jelaskan apa keunikan dari inverse matriks ini!"
      ]
    },
    {
      "cell_type": "markdown",
      "metadata": {
        "id": "JxAeURRD46W4"
      },
      "source": [
        "33. Lalu, dengan nilai vektor translasi $t$ dan sudut rotasi $\\theta$ di poin poin 30, tuliskan nilai matriks $T^{-1}$!"
      ]
    },
    {
      "cell_type": "markdown",
      "metadata": {
        "id": "YoHmZNOJ5H0r"
      },
      "source": [
        "34. Kalikan matriks $T^{-1}$ dengan vektor posisi titik-titik sudut polygon yang didapat dari hasil perhitungan di poin 31! Visualisasikan hasilnya dengan perintah draw_polygon()! Jelaskan apa yang terjadi jika dibandingkan dengan hasil di poin 31!"
      ]
    },
    {
      "cell_type": "code",
      "metadata": {
        "id": "VHWhWO1EN5jZ",
        "colab": {
          "base_uri": "https://localhost:8080/",
          "height": 521
        },
        "outputId": "61060571-fd9f-41b6-f8c6-455294a44fa2"
      },
      "source": [
        "vector_a = np.array([[0], [0]])\n",
        "vector_b = np.array([[0], [0]])\n",
        "vector_c = np.array([[0], [0]])\n",
        "vector_d = np.array([[0], [0]])\n",
        "draw_polygon(vector_a, vector_b, vector_c, vector_d)\n",
        "\n",
        "new_a = np.array([[0], [0]])\n",
        "new_b = np.array([[0], [0]])\n",
        "new_c = np.array([[0], [0]])\n",
        "new_d = np.array([[0], [0]])\n",
        "draw_polygon(new_a, new_b, new_c, new_d)"
      ],
      "execution_count": null,
      "outputs": [
        {
          "output_type": "display_data",
          "data": {
            "image/png": "[encoded data removed]",
            "text/plain": [
              "<Figure size 432x288 with 1 Axes>"
            ]
          },
          "metadata": {
            "needs_background": "light"
          }
        },
        {
          "output_type": "display_data",
          "data": {
            "image/png": "[encoded data removed]",
            "text/plain": [
              "<Figure size 432x288 with 1 Axes>"
            ]
          },
          "metadata": {
            "needs_background": "light"
          }
        }
      ]
    },
    {
      "cell_type": "markdown",
      "metadata": {
        "id": "ubtfwHeTg8xP"
      },
      "source": [
        "## Praktikum 2. Operasi Dasar Citra dan Transformasi Linear"
      ]
    },
    {
      "cell_type": "markdown",
      "metadata": {
        "id": "DBRalS5gg8xV"
      },
      "source": [
        "### Citra dan Matriks\n",
        "\n",
        "Matriks merupakan salah satu bentuk representasi dari citra digital, oleh karena itu operasi pada citra digital dapat dilakukan dengan cara memanipulasi elemen – elemen matriks. Elemen matriks yang dimanipulasi dapat berupa elemen tunggal (sebuah pixel), sekumpulan elemen yang berdekatan, atau keseluruhan elemen matriks. Operasi dasar yang dilakukan pada pengolahan citra dapat dikelompokkan ke dalam empat aras (level) komputasi:\n",
        "- aras titik\n",
        "- aras local\n",
        "- aras global\n",
        "- aras objek\n",
        "\n",
        "Pada praktikum ini, peserta praktikum akan mempelajari mengenai operasi dasar citra pada aras komputasi titik dan local saja. \n",
        "- Pada aras titik membutuhkan pemrosesan pixel. Pemrosesan pixel adalah mengubah nilai pixel sebagai fungsi dari nilainya sendiri. Pemrosesan pixel tidak bergantung pada nilai pixel tetangganya. Pada praktikum ini peserta praktikum akan melakukan percobaan Color correction pada sebuah gambar terhadap Contrast, Gamma Correction, Brightness.\n",
        "- Pada operasi aras lokal akan menghasilkan citra luaran yang intensitas pixelnya bergantung pada intensitas pixel-pixel tetangganya. Percobaan operasi beraras lokal yang akan dilakukan peserta praktikum adalah adalah operasi konvolusi untuk mendeteksi tepi (edge detection) dan pengaburan citra (image bluring).\n",
        "\n",
        "\n"
      ]
    },
    {
      "cell_type": "markdown",
      "metadata": {
        "id": "gB9_YofakqnS"
      },
      "source": [
        "### LIBRARY\n",
        "- Peserta hanya boleh menggunakan library yang sudah disediakan yaitu `imgpro`.\n",
        "- Seperti halnya pada Bagian 1, matriks yang akan kita proses merupakan tipe data dari array numpy. Batasan penggunaan numpy hanya pada penggunaan method ndarray sebagai wadah dari matriks (fungsi tidak diperkenankan).\n",
        "- Peserta diharapkan cukup familiar dengan array indexing numpy. Atau bisa membaca short documentation berikut [basic index and slicing](https://numpy.org/doc/stable/user/basics.indexing.html#basics-indexing)"
      ]
    },
    {
      "cell_type": "code",
      "metadata": {
        "id": "oESVpnH52zjv"
      },
      "source": [
        "# Jalankan kode ini untuk mendownload library/module\n",
        "!wget -c https://raw.githubusercontent.com/sykrn/psainsdasar/main/imgpro.py"
      ],
      "execution_count": null,
      "outputs": []
    },
    {
      "cell_type": "markdown",
      "metadata": {
        "id": "RrPZpvxZg8xW"
      },
      "source": [
        "### Percobaan 2A -  Matriks channel warna RGB\n",
        "Citra digital dibentuk oleh elemen matriks yang dimanupulasi yaitu berupa kumpulan titik yang dinamakan pixel. Setiap pixel digambarkan sebagai satu kotak kecil. Setiap pixel mempunyai koordinat posisi berupa $(x,y)$. Pada percobaan kali ini, peserta praktikum mempelajari mengenai fungsi untuk membaca citra, merubah ukuran citra, serta menampilkan citra. \n",
        "Jenis citra yang akan digunakan pada percobaan ini adalah citra RGB.\n",
        "\n",
        "####Citra Berwarna (RGB)\n",
        "Citra berwarna, atau biasa dinamakan citra RGB, merupakan jenis citra yang\n",
        "menyajikan warna dalam bentuk komponen R (merah), G (hijau), dan B (biru). \n",
        "RGB adalah suatu model warna yang terdiri dari merah, hijau, dan biru, yang jika\n",
        "digabungkan akan membentuk suatu susunan warna yang luas.\n",
        "Setiap komponen warna menggunakan 8 bit (nilainya berkisar antara 0 sampai dengan 255). Dengan demikian, kemungkinan warna yang bisa disajikan mencapai 255 x 255 x255 atau 16.581.375 warna. \n",
        "Satu jenis warna, dapat dibayangkan sebagai sebuah vektor di ruang 3 dimensi, koordinatnya dinyatakan dalam bentuk tiga bilangan, yaitu komponen-x, komponen-y dan komponen-z. Misalkan sebuah vektor dituliskan sebagai r = (x,y,z). Untuk warna, komponen-komponen tersebut digantikan oleh komponen R(red), G(green), B(blue). Jadi, sebuah jenis warna dapat dituliskan sebagai berikut: warna = RGB(30, 75, 255). Putih = RGB (255,255,255), sedangkan untuk hitam= RGB(0,0,0)"
      ]
    },
    {
      "cell_type": "markdown",
      "metadata": {
        "id": "WZVocJ9PFkKR"
      },
      "source": [
        "#### Langkah-langkah Percobaan:\n",
        "\n",
        "1. **Mengunggah Gambar**:\n",
        "Pada percobaan kali ini peserta praktikum diminta untuk mengunggah gambar dengan cara pilih menu files (icon folder) yang berada ditaskbar sebelah kiri, lalu unggah gambar yang Anda pilih. Anda bisa melakukan drag and drop pada area taskbar tersebut untuk mengunggah gambar yang Anda inginkan. Pastikan gambar yang Anda unggah merupakan gambar yang unik (tidak boleh ada gambar yang sama antar peserta praktikum). *Kriteria gambar: Bisa menggunakan gambar selfie saat praktikum dilaksanakan atau gambar yang memiliki variasi warna akan lebih baik.* \n"
      ]
    },
    {
      "cell_type": "markdown",
      "metadata": {
        "id": "RsjUBSvpajKs"
      },
      "source": [
        "##### kode 1\n",
        "\n",
        "2. Membuka Gambar:\n",
        "Pada percobaan kali ini Anda diminta untuk membuka gambar untuk keperluan pengolahan citra. Anda hanya dapat menggunakan library yang sudah disediakan pada praktikum ini. Silakan import fungsi `open_image` yang ada di module `imgpro`, untuk membuka gambar yang telah Anda unggah. Kemudian, Anda bisa memanggil fungsi tersebut dengan memberikan 2 argumen, yaitu path gambar dan ukuran gambar berupa `tuple` (lebar,tinggi) yang akan digunakan untuk me-*resize* gambar yang Anda unggah.  ukuran gambar berhubungan dengan jumlah piksel yang digunakan untuk menyusun suatu citra serta mempengaruhi kualitas citra. Istilah resolusi citra biasa dinyatakan jumlah piksel pada arah lebar dan tinggi. Resolusi piksel biasa dinyatakan dengan notasi m x n, dengan m menyatakan tinggi dan n menyatakan lebar dalam jumlah piksel. \n",
        "contoh pemanggilan fungsi dan gambar di simpan pada variabel image. \n",
        "    \n",
        "    `image = open_image('gambar_saya.jpg',size=(100,50))`\n",
        "\n",
        "\n"
      ]
    },
    {
      "cell_type": "code",
      "metadata": {
        "id": "K8UbxJs_6iKb"
      },
      "source": [
        "# KODE ANDA DI SINI\n",
        "from imgpro import open_image\n",
        "\n",
        "path = None   # paht image Anda  (string)          \n",
        "size = None   # size image Anda (h,w), untuk merisize gambar       \n",
        "image = None  # buka image Anda dengan argumen path dan size kemudian simpan di variabel image "
      ],
      "execution_count": null,
      "outputs": []
    },
    {
      "cell_type": "markdown",
      "metadata": {
        "id": "qnmiYiwx66fM"
      },
      "source": [
        "Jika langkah-langkah percobaan Anda sudah benar, Anda dapat melihat gambar yang anda unggah dengan merunning kode di bawah ini.\n"
      ]
    },
    {
      "cell_type": "code",
      "metadata": {
        "id": "5jLU2Jl166Nc"
      },
      "source": [
        "# JALANKAN KODE INI\n",
        "image"
      ],
      "execution_count": null,
      "outputs": []
    },
    {
      "cell_type": "markdown",
      "metadata": {
        "id": "CKSKoNKfawdX"
      },
      "source": [
        "##### kode 2\n",
        "\n",
        "3. Mengambil nilai-nilai setiap channel pada gambar: Anda dapat memanggil fungsi `get_RGB` dengan satu argumen gambar yang telah anda simpan di variable `image` di atas untuk mengambil matriks pada setiap channel. Fungsi tersebut menampilakan ukuran gambar di mana gambar disimpan dalam bentuk matriks, yang elemen-elemennya berupa tripel $(x_1,x_2,x_3)$ dimana $x_1$ adalah intensitas warna merah, $(x_2)$ adalah warna hijau dan $(x_3)$ adalah warna biru. Intensitas masing-masing warna berada dalam rentang 0 – 255. Fungsi `get_RGB` akan memisahkan ketiga channel tersebut sedemikian hingga Anda akan mendapatkan 3 matriks untuk ketiga channel warna tersebut.\n",
        "\n",
        "    simpan nilai `return` dari fungsi tersebut dalam variabel masing-masing channel, yaitu `r_channel`, `g_channel`, dan `b_channel`."
      ]
    },
    {
      "cell_type": "code",
      "metadata": {
        "id": "Qa78DObs78bI"
      },
      "source": [
        "# KODE ANDA DI SINI\n",
        "from imgpro import get_RGB\n",
        "r_channel,g_channel,b_channel = None"
      ],
      "execution_count": null,
      "outputs": []
    },
    {
      "cell_type": "markdown",
      "metadata": {
        "id": "rtW984wT-dM4"
      },
      "source": [
        "4. Anda dapat melihat bagian matriks 10x10 pertama dari `r_channel` dengan menjalankan kode di bawah ini. Perintah tersebut akan mengambil elemen matriks kolom index 0 sampai 9 dan baris index 0 sampai 9."
      ]
    },
    {
      "cell_type": "code",
      "metadata": {
        "id": "RVEdd9aOYfG7"
      },
      "source": [
        "# JALANKAN KODE INI\n",
        "print(r_channel[0:10,0:10])"
      ],
      "execution_count": null,
      "outputs": []
    },
    {
      "cell_type": "markdown",
      "metadata": {
        "id": "OuXPPwSUa4QG"
      },
      "source": [
        "##### kode 3\n",
        "5. Cobalah untuk menampilkan elemen-elemen matriks pada channel biru yang lain dari 10 kolom terakhir dan 10 baris terakhir! "
      ]
    },
    {
      "cell_type": "code",
      "metadata": {
        "id": "9IqVw9M1_vGD"
      },
      "source": [
        "# KODE ANDA DI SINI\n"
      ],
      "execution_count": null,
      "outputs": []
    },
    {
      "cell_type": "markdown",
      "metadata": {
        "id": "o9IMb6A4_ug_"
      },
      "source": [
        "6. Anda dapat menampilkan representasi citra untuk masing-masing channel dengan menggunakan fungsi `show_img` dengan argumen salah satu channel Anda. Cobalah untuk menampilan representasi citra dari masing masing channel. "
      ]
    },
    {
      "cell_type": "code",
      "metadata": {
        "id": "djh2N0leZzb1"
      },
      "source": [
        "# Menampilkan citra untuk channel merah\n",
        "from imgpro import show_img\n",
        "show_img(r_channel)"
      ],
      "execution_count": null,
      "outputs": []
    },
    {
      "cell_type": "markdown",
      "metadata": {
        "id": "6ezI6Vwpa_a-"
      },
      "source": [
        "##### kode 4\n",
        "7. Tampilkan representasi citra dari channel-channel yang lain, kemudian perhatikan dan bandingkan hasilnya!"
      ]
    },
    {
      "cell_type": "code",
      "metadata": {
        "id": "WztqoCyCCOGl"
      },
      "source": [
        "# KODE ANDA DI SINI\n",
        "# tampilkan citra dari channel-channel yang lain \n"
      ],
      "execution_count": null,
      "outputs": []
    },
    {
      "cell_type": "markdown",
      "metadata": {
        "id": "co-UqzfjCeoO"
      },
      "source": [
        "#### KUIS 2.1\n",
        "Dari pengolahan gambar di atas, jelaskan perbedaan dari masing-masing channel! Mengapa terdapat pixel yang gelap dan terang ditempat berbeda pada masing-masing channel?\n",
        "\n"
      ]
    },
    {
      "cell_type": "markdown",
      "metadata": {
        "id": "tUBBhQikDidP"
      },
      "source": [
        "8. Anda dapat menggabungkan semua channel tersebut menjadi gambar warna dengan menggunakan fungsi `show_img` namun dengan memberikan argumen berupa `list` dari semua channelnya dengan urutan `[R,G,B]`.\n"
      ]
    },
    {
      "cell_type": "code",
      "metadata": {
        "id": "hE7dgegWalz9"
      },
      "source": [
        "# Menampilkan semua channel dalam satu gambar\n",
        "show_img([r_channel,g_channel,b_channel])"
      ],
      "execution_count": null,
      "outputs": []
    },
    {
      "cell_type": "markdown",
      "metadata": {
        "id": "IkMzeelLEBn2"
      },
      "source": [
        "#### KUIS 2.2\n",
        "Cobalah untuk menukar urutan posisi channel saat memanggil fungsi `show_img` pada kode sel di bawah ini dan lihat apa yang terjadi? Jelaskan!\n",
        "\n"
      ]
    },
    {
      "cell_type": "code",
      "metadata": {
        "id": "tnr0stEID-6e"
      },
      "source": [
        "# KODE ANDA DI SINI\n"
      ],
      "execution_count": null,
      "outputs": []
    },
    {
      "cell_type": "markdown",
      "metadata": {
        "id": "bWLbCcq43-zz"
      },
      "source": [
        "### Percobaan 2B - Color Correction\n",
        "\n",
        "Gamma correction, Contrast, dan Brightness:\n",
        "\n",
        "$$\n",
        "V_{out} = cV_{in}^\\gamma + b\\tag{2.1}\n",
        "$$\n",
        "\n",
        "di mana, $c$ merupakan scalar pengali (Contrast) dan $\\gamma$ merupakan pangkat, nilai gamma correction, dan $b$ merupakan scalar penambah (Brightness).\n",
        "$V_{in}, V_{out}, b \\in (0,1)$, di mana $V_{in}$ dan $V_{out}$ adalah intensitas gambar input dan output. $c$ dan $\\gamma$ adalah dua parameter yang mengontrol bentuk kurva transformasi.\n",
        "Perlu diperhatikan semua operasi di atas merupakan operasi per elemen matriks, sebagai contoh $V_{in}^\\gamma$ akan melakukan operasi pangkat pada setiap elemen dari matriks $V_{in}$.\n"
      ]
    },
    {
      "cell_type": "markdown",
      "metadata": {
        "id": "idVBjL9pg8xh"
      },
      "source": [
        "Pada percobaan kali ini peserta praktikum diminta untuk mengatur nilai gamma, contrast dan brightness  hingga didapatkan citra yang relevan sesuai yang diinginkan. Gamma correction dan contrast memiliki nilai kenormalan 1, sedangkan brightness memiliki nilai kenormalan 0. Yang mana nilai kenormalan ini menunjukkan gamma, contrast dan brightness pada original gambar.\n",
        "\n",
        "**Contrast**\n",
        "\n",
        "Kontras dalam suatu citra menyatakan distribusi warna terang dan warna gelap. Suatu citra berskala keabuan dikatakan memiliki kontras rendah apabila distribusi warna cenderung pada jangkauan aras keabuan yang sempit. Sebaliknya,\n",
        "citra mempunyai kontras tinggi, apabila jangkauan aras keabuan lebih terdistribusi secara melebar. Kontras dapat diukur berdasarkan perbedaan antara nilai intensitas\n",
        "tertinggi dan nilai intensitas terendah yang menyusun piksel-piksel dalam citra.\n",
        "\n",
        "\n",
        "**Brightness**\n",
        "\n",
        "Kecerahan citra (Brightness) dapat dilakukan dengan menambahkan atau mengurangkan sebuah konstanta untuk setiap pixel. \n",
        "  * Jika b positif, kecerahan citra bertambah\n",
        "  * Jika b negatif, kecerahan citra berkurang\n",
        "\n",
        "Pada dasarnya nilai pixel memiliki rentang dari $(0,255)$ atau $(0,1)$ untuk citra yang ternomalisasi, di mana nilai 0 merepresentasikan paling nilai gelap/hitam (intensitas rendah) dan 255 merepresentasikan nilai paling terang/putih (intensitas tinggi).  \n",
        "\n",
        "Dari hasil penambahan atau pengurangan, bisa jadi intensitas berada di atas intensitas maksimal atau di bawah intensitas minimum, sehingga perlu operasi clipping. "
      ]
    },
    {
      "cell_type": "markdown",
      "metadata": {
        "id": "_0RYUcoyFV3G"
      },
      "source": [
        "#### Langkah-langkah Percobaan\n",
        "1. Import fungsi `clip` dari module `imgpro`. Fungsi ini akan kita gunakan untuk clipping nilai maksimum dan minimum dari sebuah matriks, yaitu pada saat citra yang kita miliki memiliki nilai yang lebih besar dari pada yang diperbolehkan, contoh $x<0.2$ atau $x>2$. \n",
        "Run contoh code di bawah ini untuk mengetahui fungsi dari clip `clip`!\n",
        "    \n",
        "  "
      ]
    },
    {
      "cell_type": "code",
      "metadata": {
        "id": "vp014I-SJCRV",
        "colab": {
          "base_uri": "https://localhost:8080/"
        },
        "outputId": "77a5f014-4c2f-4dd6-ef03-a2d12195869f"
      },
      "source": [
        "from imgpro import clip\n",
        "mat = np.array([[-1,0,2],[0.5,3,0.1]])\n",
        "print('original matrix:')\n",
        "mat"
      ],
      "execution_count": null,
      "outputs": [
        {
          "output_type": "stream",
          "name": "stdout",
          "text": [
            "original matrix:\n"
          ]
        },
        {
          "output_type": "execute_result",
          "data": {
            "text/plain": [
              "array([[-1. ,  0. ,  2. ],\n",
              "       [ 0.5,  3. ,  0.1]])"
            ]
          },
          "metadata": {},
          "execution_count": 8
        }
      ]
    },
    {
      "cell_type": "code",
      "metadata": {
        "id": "qfEDv0aSofWi",
        "colab": {
          "base_uri": "https://localhost:8080/"
        },
        "outputId": "4dfc0d2e-0d63-4d8b-f1a0-f6ed484c92e4"
      },
      "source": [
        "clip_mat = clip(mat,min=0.2,max=2)\n",
        "print('clipped matrix:')\n",
        "clip_mat"
      ],
      "execution_count": null,
      "outputs": [
        {
          "output_type": "stream",
          "name": "stdout",
          "text": [
            "clipped matrix:\n"
          ]
        },
        {
          "output_type": "execute_result",
          "data": {
            "text/plain": [
              "array([[0.2, 0.2, 2. ],\n",
              "       [0.5, 2. , 0.2]])"
            ]
          },
          "metadata": {},
          "execution_count": 9
        }
      ]
    },
    {
      "cell_type": "markdown",
      "metadata": {
        "id": "UwK_g4MRI9pp"
      },
      "source": [
        "Image yang Anda miliki di atas berupa 3 variable channel RGB, sehingga untuk melakukan color correction pada citra tersebut, kita perlu untuk memprosesnya pada masing-masing channel. \n"
      ]
    },
    {
      "cell_type": "markdown",
      "metadata": {
        "id": "rkPg952Hbgvs"
      },
      "source": [
        "##### kode 5\n",
        "2. Persamaan color correction diatas memiliki domain citra dalam rentang $[0,1]$, sehingga Anda perlu untuk menormalisasikan matriks Anda dalam rentang tersebut. Lakukan normalisasi untuk semua matriks channel Anda!"
      ]
    },
    {
      "cell_type": "code",
      "metadata": {
        "id": "KNQu7fUf3-z3"
      },
      "source": [
        "# KODE ANDA DI SINI\n",
        "norm_red = None\n",
        "norm_green = None\n",
        "norm_blue = None"
      ],
      "execution_count": null,
      "outputs": []
    },
    {
      "cell_type": "markdown",
      "metadata": {
        "id": "9zLGdQqIbmvc"
      },
      "source": [
        "##### kode 6\n",
        "3. Tentukan nilai $\\gamma$, $c$, dan $b$, kemudian terapkan persamaan $(2.1)$ pada setiap channel yang sudah ternormalisasi. *Note: pastikan nilai tetap berada pada rentang [0,1] setelah menerapkan $(2.1)$, gunakan fungsi clip yang sudah diberikan!*\n"
      ]
    },
    {
      "cell_type": "code",
      "metadata": {
        "id": "f7QmPzmZIF2E"
      },
      "source": [
        "# KODE ANDA DI SINI\n",
        "gamma = None\n",
        "C = None\n",
        "B = None\n",
        "\n",
        "# terapkan persamaan (2.1) kemudian clip\n",
        "correct_red = None\n",
        "correct_green = None\n",
        "correct_blue = None\n",
        "\n",
        "\n",
        "show_img([correct_red,correct_green,correct_blue])"
      ],
      "execution_count": null,
      "outputs": []
    },
    {
      "cell_type": "markdown",
      "metadata": {
        "id": "jDRXedfm9Zwu"
      },
      "source": [
        "#### KUIS 2.3\n",
        "Cobalah mengganti-ganti nilai pada $\\gamma$, $c$, dan $b$, kemudian perhatikan masing-masing hasilnya. Jelaskan secara intuitif apa pengaruh dari masing-masing parameter terhadap citra yang dihasilkan?"
      ]
    },
    {
      "cell_type": "markdown",
      "metadata": {
        "id": "1vPkLzf5buQ9"
      },
      "source": [
        "##### kode 7\n",
        "4. Buatlah kode untuk denormalisasi citra dari semua corrected channel di atas sedemikian hingga rentang citra menjadi seperti $[0,255]$! *Note: nilai dari setiap elemen pada matriks citra merupakan integer*\n",
        "\n"
      ]
    },
    {
      "cell_type": "code",
      "metadata": {
        "id": "u5Dk-ZQ53-z6"
      },
      "source": [
        "# KODE ANDA DI SINI\n"
      ],
      "execution_count": null,
      "outputs": []
    },
    {
      "cell_type": "markdown",
      "metadata": {
        "id": "jsLc-JGE3-z7"
      },
      "source": [
        "#### RGB to Grayscale\n",
        "\n",
        "Ada beberapa metode yang umum digunakan untuk mengubah citra RGB menjadi citra Black and White atau grayscale. Pada praktikum kali ini akan digunakan metode  avergae (rata-rata). Metode Average mengambil nilai rata-rata R, G, dan B sebagai nilai grayscale. Berikut merupakan fungsi dari metode average\n",
        "\n",
        "$$Grayscale = (R + G + B ) / 3$$\n",
        "\n",
        "Cara intuitif untuk mengonversi larik 3D gambar berwarna menjadi larik 2D skala abu-abu adalah, untuk setiap piksel, ambil rata-rata nilai piksel merah, hijau, dan biru menjadi satu set tiga angka yang sama yang mewakili rentang pada spektrum hitam-putih di mana warna muncul sehingga mendapatkan nilai skala abu-abu. Ini menggabungkan kecerahan atau pencahayaan yang disumbangkan oleh setiap pita warna ke dalam perkiraan abu-abu yang masuk akal.\n"
      ]
    },
    {
      "cell_type": "markdown",
      "metadata": {
        "id": "WTslBpkk_LqY"
      },
      "source": [
        "##### kode 8\n",
        "5. Buatlah citra grayscale dari gambar yang sudah Anda unggah, berdasarkan penjelasan di atas! Gunakan citra yang sudah ternormalisasi yaitu rentang $[0,1]$."
      ]
    },
    {
      "cell_type": "code",
      "metadata": {
        "id": "-ZPuVX-f3-z8"
      },
      "source": [
        "#KODE ANDA DI SINI\n",
        "\n",
        "img_grey = None\n",
        "\n",
        "show_img(img_grey)"
      ],
      "execution_count": null,
      "outputs": []
    },
    {
      "cell_type": "markdown",
      "metadata": {
        "id": "YH1beVRc3-z9"
      },
      "source": [
        "### Percobaan 2C - Konvolusi di ruang spasial\n",
        "\n",
        "Konvolusi merupakan salah satu operasi yang cukup penting dalam teori pengolahan citra. \n",
        "\n",
        "Operasi konvolusi didefinisikan sebagai berikut untuk isyarat continue:\n",
        "\n",
        "$$(f * g)(t) := \\int_{-\\infty}^\\infty f(\\tau) g(t - \\tau) \\, d\\tau$$\n",
        "\n",
        "untuk isyarat diskrit sebagai berikut:\n",
        "\n",
        "$$(f * g)(t) := \\sum_{\\tau=-\\infty}^\\infty f(\\tau) g(t - \\tau) \\$$\n",
        "\n",
        "di mana $g$ merupakan kernel atau filter yang diaplikasikan pada isyarat $f$\n",
        "\n",
        "Operasi konvolusi di ruang spasial dapat diilustrasikan sebagai berikut. \n",
        "\n",
        "![conv1d](https://upload.wikimedia.org/wikipedia/commons/6/6a/Convolution_of_box_signal_with_itself2.gif)\n",
        "\n",
        "Pada dasarnya operasi konvolusi merupakan operasi dot product, dari dua buah vector $f$ dan $g$ pada Ruang Hilbert pada waktu $t$.\n",
        "\n",
        "Konvolusi 2D\n",
        "\n",
        "Konvolusi 1D bisa dikembangkan lebih lanjut untuk model data 2 dimensi seperti halnya sebuah citra gambar.\n",
        "\n",
        "$$(f * g)(t_x,t_y) := \\sum_{\\tau_x=-\\infty}^\\infty \\sum_{\\tau_y=-\\infty}^\\infty f(\\tau_x,\\tau_y) g(t_x - \\tau_x,t_y - \\tau_y) \\$$\n",
        "\n",
        "\n",
        "![conv](https://images.squarespace-cdn.com/content/v1/5a8dbb09bff2006c33266320/1538257989147-MK4591YBPF8WN2Y2X36E/image-asset.gif?format=500w)\n",
        "\n"
      ]
    },
    {
      "cell_type": "markdown",
      "metadata": {
        "id": "uxGzrnJDhOjS"
      },
      "source": [
        "Konvolusi 2D didefinisikan sebagai proses untuk memperoleh suatu\n",
        "piksel didasarkan pada nilai piksel itu sendiri dan tetangganya, dengan melibatkan suatu matriks yang disebut kernel yang merepresentasikan pembobotan.\n",
        "Matriks konvolusi/kernel memiliki jumlah baris dan kolom sesuai dengan kebutuhan. Jumlah baris dan kolom bergantung pada jenis dan kekuatan efek yang ingin dicapai.\n",
        "\n",
        "Singkatnya, proses konvolusi di ruang spasial melihat setiap piksel dalam bitmap sumber dengan menerapkan perkalian titik (dot product) dari sebuah kernel terhadap setiap citra seperti pada ilustrasi animasi di atas. Jelas semakin besar matriks Anda, semakin lama proses ini berlangsung.\n",
        "\n",
        "\n",
        "Parameter dari sebuah operasi konvolusi 2D umumnya yang berhubungan dengan citra terdiri dari:\n",
        "- ukuran kernel, $k$: merupakan ukuran dari operator konvolusi/kernel, (matriks.kotak yang bergeser pada ilustrasi di atas, memiliki ukuran $k=3$) umumnya angka ganjil.\n",
        "- padding, $p$: merupakan pixel tambahan (kotak dengan garis putus-putus) pada sisi luar citra (kotak biru), pada ilustrasi di atas memiliki $p=2$. Padding biasa di gunakan untuk mempertahankan ukuran citra dengan menambahkan nilai 0 pada sisi luar citra. suatu operasi konvolusi tanpa padding, $p=0$, operasi dot product pertama untuk kernel yang berukuran $3\\times3$ akan dimulai pada elemen ke $(t_x=2,t_y=2)$ dan berakhir di $(t_x=n_x-2,t_y=n_y-2)$, yang akan menyebabkan ukuran citra hasil operasi akan berkurang.\n",
        "-stride/step, $s$: merupakan besaran langkah dari kernel, pada ilustrasi di atas kernel bergeser setiap satu pixel baik ke kanan atau ke bawah sehingga $s=1$. Semakin besar langkah semakin sedikit opearsi dot product yang menyebabkan ukuran citra akan semakin kecil. Singkatnya jika $p=2$ ukuran citra $(W,H)$ akan menjadi $(W/2,H/2)$, yaitu ditentukan oleh banyaknya operasi dot product yang telah dilakukan."
      ]
    },
    {
      "cell_type": "markdown",
      "metadata": {
        "id": "xRBJmy5WEAWs"
      },
      "source": [
        "#### Kuis 2.4\n",
        "1. Misal kita tentukan ukuran kernel $2n+1, n\\in \\mathbb{Z}$, dengan $s=1$, berapakah ukuran padding $p$ agar ukuran citra akan tetap sama seperti saat sebelum operasi konvolusi dilakukan?\n",
        "\n",
        "2. Misal kita tentukan ukuran kernel $2n+1, n\\in \\mathbb{Z}$, dengan $s=1$ dan $p=0$ dengan ukuran citra $(H,W)$, berapakah ukuran citra yang dihasilkan setelah operasi konvolusi?\n",
        "\n",
        "\n",
        "3. Diberikan sebuah citra dengan ukuran $100\\times100$, jika kita memiliki kernel $5\\times5$ dengan padding 2 dan stride 2. Berapakan resolusi citra hasil konvolusinya? Jelaskan secara singkat hasil yang Anda dapatkan!\n"
      ]
    },
    {
      "cell_type": "markdown",
      "metadata": {
        "id": "pF1IG4zkIsDl"
      },
      "source": [
        "\n",
        "#### Kernel\n",
        "Kernel adalah matriks kecil yang digunakan untuk menerapkan efek seperti seperti pengaburan, penajaman, embossing, dll. Kernel juga digunakan dalam pembelajaran mesin untuk 'ekstraksi fitur', sebuah teknik untuk menentukan bagian terpenting dari sebuah gambar. Dalam konteks ini, prosesnya disebut secara lebih umum sebagai `konvolusi`.\n",
        "\n"
      ]
    },
    {
      "cell_type": "markdown",
      "metadata": {
        "id": "Vb7qSoou7hGB"
      },
      "source": [
        "#### Blur kernel\n",
        "**Uniform Blur** merupakan kernel yang memiliki elemen yang uniform dengan jumlah dari semua elemennya sama dengan satu kemudian kemudian dikalikan dengan jumlahnya (menjadi elemen rata-rata). Kernel ini juga sering kali  disebut sebagai low pass filter. Berikut merupakan salah satu contoh kernel blur ukuran $3\\times3$, \n",
        "$$\n",
        "\\frac{1}{9}\n",
        "\\begin{bmatrix}\n",
        "\\ \\ 1 &\\ \\  1 & 1 \\\\\n",
        "\\ \\ 1 &\\ \\  1 & \\ \\ 1 \\\\\n",
        "\\ 1 &\\ \\  1 & \\ \\ 1\n",
        "\\end{bmatrix}\\tag{2.2}\n",
        "$$\n",
        "\n",
        "Selain itu terdapat kernel bluring yang lain yang melakukan operasi serupa seperti halnya kernel Gaussian Blur yang melakukan operasi rerata pada citra namun dengan bentuk kurva Gaussian.\n",
        "\n",
        "$$\n",
        "\\frac{1}{16}\n",
        "\\begin{bmatrix}\n",
        "\\ \\ 1 &\\ \\  2 &\\ \\  1 \\\\\n",
        "\\ \\ 2 &\\ \\  4 &\\ \\  2 \\\\\n",
        "\\ \\ 1 &\\ \\  2 &\\ \\  1\n",
        "\\end{bmatrix}\n",
        "$$\n",
        "\n"
      ]
    },
    {
      "cell_type": "markdown",
      "metadata": {
        "id": "whMbcALttu0M"
      },
      "source": [
        "kernel di atas melakukan operasi rerata nilai suatu piksel tertentu dengan tetangganya, baik dengan rerata aritmatis atau rerata Gaussian."
      ]
    },
    {
      "cell_type": "markdown",
      "metadata": {
        "id": "BTJqgBe6HKev"
      },
      "source": [
        "#### Langkah-langkah percobaan\n"
      ]
    },
    {
      "cell_type": "markdown",
      "metadata": {
        "id": "Di5Y8t-7crrO"
      },
      "source": [
        "##### kode 9\n",
        "1. Buatlah kernel uniform blur seperti pada $(2.2)$, dengan ukuran $k=5$."
      ]
    },
    {
      "cell_type": "code",
      "metadata": {
        "id": "BD6dHDCwSryM"
      },
      "source": [
        "# KODE ANDA DI DISINI\n",
        "k= None\n",
        "kernel_blur = None\n",
        "\n",
        "print(kernel_blur)"
      ],
      "execution_count": null,
      "outputs": []
    },
    {
      "cell_type": "markdown",
      "metadata": {
        "id": "RGbXNtgtUGsk"
      },
      "source": [
        "##### kode 10\n",
        "2. Lakukan operasi konvolusi pada citra dengan kernel blur di atas, tanpa padding $p=0$ dengan langkah/ stride $s=1$. "
      ]
    },
    {
      "cell_type": "code",
      "metadata": {
        "id": "aA7YggNv3-0H"
      },
      "source": [
        "#KODEMU DI SINI\n",
        "\n",
        "# separuh nilai kernel \n",
        "half_k = k//2\n",
        "\n",
        "# ukuran input image\n",
        "h,w = img_grey.shape\n",
        "\n",
        "# buat output image dengan nilai inisiasi nol\n",
        "# dimensi output image akan tereduksi karena tanpa padding\n",
        "out_img = np.zeros((h-k+1,w-k+1))\n",
        "\n",
        "for i in range(half_k,h-half_k):\n",
        "  for j in range(half_k,w-half_k):\n",
        "\n",
        "    # kalikan kernel_blur Anda dengan elemen yang bersesuaian \n",
        "    mult = None\n",
        "\n",
        "    # isi elemen out_img dengan jumlah dari hasil perkalian (sum of product)\n",
        "    out_img[i-half_k,j-half_k] = mult.sum()"
      ],
      "execution_count": null,
      "outputs": []
    },
    {
      "cell_type": "markdown",
      "metadata": {
        "id": "uhGwQR1OW_n3"
      },
      "source": [
        "##### kode 11\n",
        "3. Tampilkan hasil konvolusi Anda di sini dengan menggunakan fungsi `show_img`,  Kemudian bandingkan dengan gambar semula! "
      ]
    },
    {
      "cell_type": "code",
      "metadata": {
        "id": "95sLwDbtXJwg"
      },
      "source": [
        "# KODEMU DI SINI\n"
      ],
      "execution_count": null,
      "outputs": []
    },
    {
      "cell_type": "markdown",
      "metadata": {
        "id": "wMzc2cGoeEoQ"
      },
      "source": [
        "#### Kuis 2.5\n",
        "1. Pada Kode 9, mengapa operasi konvolusi akan dimulai pada index (3,3) pada citra? kenapa dan jelaskan!\n",
        "2. Apa perbedaan antara citra asli dengan citra hasil konvolusi, seperti yang ditunjukkan oleh kode 10? Jelaskan!"
      ]
    },
    {
      "cell_type": "markdown",
      "metadata": {
        "id": "2uOzy7Tq3-0J"
      },
      "source": [
        "#### **Edge Detection**\n",
        "Kernel untuk edges detection merupakan salah satu kernel yang mendeteksi perubahan intersitas tetangga dari image secara drastis (edges). Kita bisa melihat dari susunan angka-angka pada kernel edge detection ini yang disusun menyerupai edge pada contoh matriks kernel di bawah ini.\n",
        "\n",
        "Edge detection kernel:\n",
        "1. $E_1=\n",
        "\\begin{bmatrix}\n",
        "\\ \\ 1 &\\ \\  0 & -1 \\\\\n",
        "\\ \\ 0 &\\ \\  0 & \\ \\ 0 \\\\\n",
        " - 1 &\\ \\  0 & \\ \\ 1\n",
        "\\end{bmatrix}\n",
        "$\n",
        "\n",
        "2. $E_2=\\begin{bmatrix}\n",
        "\\ \\ 0 &  -1 & \\ \\ 0 \\\\\n",
        "-1 &\\ \\  4 & -1 \\\\\n",
        "\\ \\ 0 &  -1 & \\ \\ 0\n",
        "\\end{bmatrix}$\n",
        "\n",
        "3. $E_3=\\begin{bmatrix}\n",
        "-1 &  -1 & -1 \\\\\n",
        "-1 & \\ \\ 8 & -1 \\\\\n",
        "-1 &  -1 & -1\n",
        "\\end{bmatrix}$\n",
        "\n",
        "\n",
        "Piksel tepi objek gambar cenderung memiliki warna yang berbeda dengan piksel di sekelilingnya. Sementara itu, piksel yang bukan merupakan tepi objek gambar\n",
        "cenderung memiliki warna yang sama dengan piksel di sekelilingnya. Dengan menggunakan filter edge detection, kita dapat mendeteksi tepi objek gambar dengan cara mengubah warna piksel yang bukan merupakan tepi objek gambar menjadi warna gelap (hitam) karena hasil dot product akan menjadi lebih kecil dibanding dengan bagian dari citra yang merupakan tepi. *Ingat! dot product merupakan salah satu operasi untuk mengukur kemiripan (similarity) dari sebuah vector*. "
      ]
    },
    {
      "cell_type": "markdown",
      "metadata": {
        "id": "8Z-FZmSGa2Gm"
      },
      "source": [
        "##### kode 12\n",
        "4. Buatlah kernel tepi $E_1$ dengan menggunakan numpy array! kemudian lakukan operasi convolusi pada `img_grey`. Langkah ini mirip dengan langkah 2 pada kernel blur."
      ]
    },
    {
      "cell_type": "code",
      "metadata": {
        "id": "X6ZUT_K4iOFf"
      },
      "source": [
        "# KODEMU DI SINI\n",
        "k=None\n",
        "kernel_edge = np.array(None)\n",
        "\n",
        "\n",
        "# separuh nilai kernel \n",
        "half_k = k//2\n",
        "\n",
        "# ukuran input image\n",
        "h,w = img_grey.shape\n",
        "\n",
        "# buat output image dengan nilai inisiasi nol\n",
        "# dimensi output image akan tereduksi seperti karena tanpa padding\n",
        "out_img = np.zeros((h-k+1,w-k+1))\n",
        "\n",
        "for i in range(half_k,h-half_k):\n",
        "  for j in range(half_k,w-half_k):\n",
        "\n",
        "    # kalikan kernel_edge Anda dengan elemen yang bersesuaian \n",
        "    mult = None\n",
        "\n",
        "    # isi elemen out_img dengan jumlah dari hasil perkalian\n",
        "    out_img[i-half_k,j-half_k] = mult.sum()"
      ],
      "execution_count": null,
      "outputs": []
    },
    {
      "cell_type": "markdown",
      "metadata": {
        "id": "Lgn9rqm9jg7L"
      },
      "source": [
        "##### kode 13\n",
        "\n",
        "5. Tampilkan citra hasil konvolusi dengan kernel edge!"
      ]
    },
    {
      "cell_type": "code",
      "metadata": {
        "id": "GUHt8AmB3-0L"
      },
      "source": [
        "# KODEMU DI SINI\n"
      ],
      "execution_count": null,
      "outputs": []
    },
    {
      "cell_type": "markdown",
      "metadata": {
        "id": "tkh-KT3fg8xr"
      },
      "source": [
        "#### KUIS 2.6\n",
        "\n",
        "Hitunglah Konvolusi edge detection dari citra grayscle yang sudah diunggah dengan $E_2$. Silakan sample citra dengan ukuran $5\\times5$ dengan numpy slicing. Gunakan sample yang memiliki citra tepi (edge). Jawablah dengan langkah-langkah yang jelas! "
      ]
    },
    {
      "cell_type": "markdown",
      "metadata": {
        "id": "Tx5VyI_f3-0M"
      },
      "source": [
        "### Percobaan 2D - Transformasi linear pada citra\n",
        "\n",
        "Pada Praktikum 1, Anda telah mempelajari bagaimana mentrasfomrasikan sebuah vektor atau titik dengan menggunakan matriks transformasi, baik rotasi, shear, scale, atau translasi. Kali ini kita akan melakukan transformasi linear pada sebuah citra. \n",
        "\n",
        "Pada dasarnya transformasi linear pada image  adalah memindahkan nilai intensitas suatu pixel, $I_{xy}$ di koordinat $(x,y)$ ke koordinate hasil transformasinya yaitu $(x',y') \\rightarrow  I_{x'y'}=I_{xy}$, dengan sebuah matriks operator $T$, seperti yang ditunjukkan pada gambar di bawah ini.  "
      ]
    },
    {
      "cell_type": "markdown",
      "metadata": {
        "id": "-MkeQx2E6aRY"
      },
      "source": [
        "![transimg.PNG](data:image/png;base64,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)"
      ]
    },
    {
      "cell_type": "markdown",
      "metadata": {
        "id": "xs3UpGmM8DEo"
      },
      "source": [
        "#### Langkah-langkah percobaan:\n",
        "1. Buatlah transformasi matriks dengan memanggil fungsi `generate_tmatrix` dengan argumen citra gray_scale image Anda."
      ]
    },
    {
      "cell_type": "code",
      "metadata": {
        "id": "GMEHcaYJWLKZ"
      },
      "source": [
        "# JALANKAN KODE INI UNTUK MEMBUAT TMATRIK ANDA\n",
        "from imgpro import generate_tmatrix\n",
        "\n",
        "tmatrix = generate_tmatrix(img_grey)\n",
        "print('Matrik transformasi (homogeneous) T:')\n",
        "tmatrix"
      ],
      "execution_count": null,
      "outputs": []
    },
    {
      "cell_type": "markdown",
      "metadata": {
        "id": "QKh_000cm6Ut"
      },
      "source": [
        "##### kode 14\n",
        "2. Selanjutnya, Anda bisa mentransformasikan untuk setiap koordinat $(x,y)$ pada matriks greyscale `img_grey` ke lokasi hasil transformasinya $(x',y')$ menggunakan matriks $T$, `tmatrix`. Untuk mempermudahkan proses, kita buat matriks `out_img` dengan dimensi yang sama dengan matriks `img_grey` yang akan kita gunakan untuk memindahkan intensitas pixelnya, $I_{x'y'}=I_{xy}$. *Note: numpy index menggunakan format `I[y,x]`.*"
      ]
    },
    {
      "cell_type": "code",
      "metadata": {
        "id": "pSxPaXJs3-0O"
      },
      "source": [
        "# KODE ANDA DI SINI\n",
        "h,w=img_grey.shape\n",
        "out_img = np.zeros((h,w))\n",
        "\n",
        "for y in range(h):\n",
        "  for x in range(w):\n",
        "    # transformasi koordinate homogeneous\n",
        "    # (x,y)\n",
        "    coord_xy = np.array([[x],[y],[1]])\n",
        "    # (x',y') -> dengan mentrasformasikan (x,y)\n",
        "    coord_xyprime = None\n",
        "\n",
        "    # xp, yp bulatkan ke integer (lokasi pixel/index hanya integer)\n",
        "    # gunakan casting integer: int(number)\n",
        "    xp,yp = None\n",
        "\n",
        "    # koordinat di luar citra dihiraukan saja\n",
        "    if yp<0 or xp<0 or yp>=h or xp>=w:\n",
        "      continue\n",
        "    else:\n",
        "      out_img[yp,xp] = img_grey[y,x]"
      ],
      "execution_count": null,
      "outputs": []
    },
    {
      "cell_type": "markdown",
      "metadata": {
        "id": "rTuVxFa6tAuL"
      },
      "source": [
        "##### kode 15\n",
        "3. Tampilkan image hasil transformasi Anda dengan menggunakan fungsi `show_img`. "
      ]
    },
    {
      "cell_type": "code",
      "metadata": {
        "id": "EDkIMApF3-0P"
      },
      "source": [
        "# KODE ANDA DI SINI\n"
      ],
      "execution_count": null,
      "outputs": []
    },
    {
      "cell_type": "markdown",
      "metadata": {
        "id": "zb6Ac1OttPVT"
      },
      "source": [
        "#### Kuis 2.7\n",
        "Perhatikan hasil citra `out_img` di atas. Terlihat citra yang ditransformasikan memiliki titik-titik hitam (hole). Apa yang membuat hal ini terjadi? Jelaskan!\n"
      ]
    },
    {
      "cell_type": "markdown",
      "metadata": {
        "id": "Lomn5EA3uEIR"
      },
      "source": [
        "4. Selanjutnya untuk memperbaiki citra hasil transformasi kita akan membuat sebuah script untuk mengisi titik-titik hitam pada citra. Penjelasan sederhananya yaitu kita akan mengganti titik-titik tersebut dengan rerata bukan nol dari tetangganya. Perhatikan dan jalankan kode di bawah ini."
      ]
    },
    {
      "cell_type": "code",
      "metadata": {
        "id": "7ZoFRaMR3-0Q"
      },
      "source": [
        "# ukuran tinggi lebar pixel tetangga\n",
        "# yang akan digunakan untuk mengganti titik-titik/lubang  \n",
        "size = 5\n",
        "half_size = size//2\n",
        "\n",
        "# copy citra\n",
        "img_filled = out_img.copy()\n",
        "\n",
        "for i in range(h):\n",
        "  for j in range(w):\n",
        "    if out_img[i,j]==0:\n",
        "      # mengambil/slice pixel tetannga \n",
        "      m = out_img[i-half_size:i+1+half_size,j-half_size:j+1+half_size]\n",
        "      \n",
        "      # menjumlahkan seluruh pixel tetangga   \n",
        "      s = m.sum()\n",
        "\n",
        "      # skip jika jumlah = 0   \n",
        "      # untuk menghindari pembagian dengan nol \n",
        "      if s==0:\n",
        "        continue\n",
        "\n",
        "      # berikan nilai rerata sebagai pengganti\n",
        "      img_filled[i,j] = s/(m>0).sum() #fill with a mean of its non-zero neighbors"
      ],
      "execution_count": null,
      "outputs": []
    },
    {
      "cell_type": "markdown",
      "metadata": {
        "id": "k67CdLEcwPWo"
      },
      "source": [
        "##### kode 16\n",
        "5. Kemudian tampilkan hasil citra yang sudah diperbaiki dengan pengisian lubang di atas."
      ]
    },
    {
      "cell_type": "code",
      "metadata": {
        "id": "wsp0vKez58z7"
      },
      "source": [
        "# KODE ANDA DI SINI\n"
      ],
      "execution_count": null,
      "outputs": []
    },
    {
      "cell_type": "markdown",
      "metadata": {
        "id": "of0CwN4lw_U7"
      },
      "source": [
        "#### KUIS 2.8\n",
        "Buatlah suatu script untuk membalikkan transformasi di atas ke bentuk semula, yaitu dari `img_filled` ke `img_grey`. Silakan tuliskan kode Anda di sini dan penjelasan Anda di lembar kerja. *Note: jika terdapat pixel yang hilang setelah transformasi karena memang sudah terhapus saat kita transformasikan dengan `tmatrix` di atas (langkah 2) tidak masalah/ dianggap nilai 0.* \n",
        "\n",
        "**Dilarang menggunakan fungsi aljabar linear dari numpy! Jika diperlukan perhitungan, silakan dihitung dengan manual/langkah demi langkah, kemudian lampirkan di bagian lampiran, perhitungan beserta penjelasannya!**"
      ]
    },
    {
      "cell_type": "code",
      "metadata": {
        "id": "5G1FmY3s3-0S"
      },
      "source": [
        "# KODE ANDA DI SINI\n",
        "\n"
      ],
      "execution_count": null,
      "outputs": []
    }
  ]
}